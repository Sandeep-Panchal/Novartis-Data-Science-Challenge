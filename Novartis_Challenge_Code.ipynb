{
 "cells": [
  {
   "cell_type": "code",
   "execution_count": null,
   "metadata": {
    "colab": {},
    "colab_type": "code",
    "id": "AHYVWEwDmWPZ"
   },
   "outputs": [],
   "source": []
  },
  {
   "cell_type": "markdown",
   "metadata": {
    "colab_type": "text",
    "id": "DUraECf-mhHt"
   },
   "source": [
    "<center><h1>Novartis Data Science Challenge</h1>"
   ]
  },
  {
   "cell_type": "code",
   "execution_count": 1,
   "metadata": {
    "colab": {
     "base_uri": "https://localhost:8080/",
     "height": 122
    },
    "colab_type": "code",
    "executionInfo": {
     "elapsed": 28300,
     "status": "ok",
     "timestamp": 1592842089674,
     "user": {
      "displayName": "sandeep panchal",
      "photoUrl": "https://lh3.googleusercontent.com/a-/AOh14Gh7IOpMB5glav7I6AkOWH0-Wj6J4HZd3Y9iGvAkJA=s64",
      "userId": "16028125481769875260"
     },
     "user_tz": -330
    },
    "id": "aJuClVfmmcmO",
    "outputId": "53ff0d42-a89e-48ca-9ce5-18a7165fc686"
   },
   "outputs": [
    {
     "name": "stdout",
     "output_type": "stream",
     "text": [
      "Go to this URL in a browser: https://accounts.google.com/o/oauth2/auth?client_id=947318989803-6bn6qk8qdgf4n4g3pfee6491hc0brc4i.apps.googleusercontent.com&redirect_uri=urn%3aietf%3awg%3aoauth%3a2.0%3aoob&response_type=code&scope=email%20https%3a%2f%2fwww.googleapis.com%2fauth%2fdocs.test%20https%3a%2f%2fwww.googleapis.com%2fauth%2fdrive%20https%3a%2f%2fwww.googleapis.com%2fauth%2fdrive.photos.readonly%20https%3a%2f%2fwww.googleapis.com%2fauth%2fpeopleapi.readonly\n",
      "\n",
      "Enter your authorization code:\n",
      "··········\n",
      "Mounted at /content/drive\n"
     ]
    }
   ],
   "source": [
    "from google.colab import drive\n",
    "drive.mount('/content/drive')"
   ]
  },
  {
   "cell_type": "code",
   "execution_count": 3,
   "metadata": {
    "colab": {},
    "colab_type": "code",
    "executionInfo": {
     "elapsed": 3070,
     "status": "ok",
     "timestamp": 1592842099987,
     "user": {
      "displayName": "sandeep panchal",
      "photoUrl": "https://lh3.googleusercontent.com/a-/AOh14Gh7IOpMB5glav7I6AkOWH0-Wj6J4HZd3Y9iGvAkJA=s64",
      "userId": "16028125481769875260"
     },
     "user_tz": -330
    },
    "id": "2GcgWkUkmZj-"
   },
   "outputs": [],
   "source": [
    "import pandas as pd\n",
    "import numpy as np\n",
    "import matplotlib.pyplot as plt\n",
    "%matplotlib inline\n",
    "import seaborn as sns\n",
    "\n",
    "import warnings\n",
    "warnings.filterwarnings('ignore')"
   ]
  },
  {
   "cell_type": "code",
   "execution_count": 4,
   "metadata": {
    "colab": {
     "base_uri": "https://localhost:8080/",
     "height": 34
    },
    "colab_type": "code",
    "executionInfo": {
     "elapsed": 3036,
     "status": "ok",
     "timestamp": 1592842099992,
     "user": {
      "displayName": "sandeep panchal",
      "photoUrl": "https://lh3.googleusercontent.com/a-/AOh14Gh7IOpMB5glav7I6AkOWH0-Wj6J4HZd3Y9iGvAkJA=s64",
      "userId": "16028125481769875260"
     },
     "user_tz": -330
    },
    "id": "jaaqeelTmWPh",
    "outputId": "d77a2dc4-7cce-412b-9a75-31791f5f5665"
   },
   "outputs": [
    {
     "name": "stdout",
     "output_type": "stream",
     "text": [
      "Shape of the dataframe: (23856, 18)\n"
     ]
    }
   ],
   "source": [
    "df = pd.read_csv('/content/drive/My Drive/Novartis/Train.csv')\n",
    "\n",
    "print('Shape of the dataframe:', df.shape)"
   ]
  },
  {
   "cell_type": "code",
   "execution_count": 5,
   "metadata": {
    "colab": {
     "base_uri": "https://localhost:8080/",
     "height": 238
    },
    "colab_type": "code",
    "executionInfo": {
     "elapsed": 3187,
     "status": "ok",
     "timestamp": 1592842126149,
     "user": {
      "displayName": "sandeep panchal",
      "photoUrl": "https://lh3.googleusercontent.com/a-/AOh14Gh7IOpMB5glav7I6AkOWH0-Wj6J4HZd3Y9iGvAkJA=s64",
      "userId": "16028125481769875260"
     },
     "user_tz": -330
    },
    "id": "cFBdFPowmWPo",
    "outputId": "2eccd188-8c8e-434d-a63f-af2f16b46bab"
   },
   "outputs": [
    {
     "name": "stdout",
     "output_type": "stream",
     "text": [
      "Head of the dataframe\n",
      "\n"
     ]
    },
    {
     "data": {
      "text/html": [
       "<div>\n",
       "<style scoped>\n",
       "    .dataframe tbody tr th:only-of-type {\n",
       "        vertical-align: middle;\n",
       "    }\n",
       "\n",
       "    .dataframe tbody tr th {\n",
       "        vertical-align: top;\n",
       "    }\n",
       "\n",
       "    .dataframe thead th {\n",
       "        text-align: right;\n",
       "    }\n",
       "</style>\n",
       "<table border=\"1\" class=\"dataframe\">\n",
       "  <thead>\n",
       "    <tr style=\"text-align: right;\">\n",
       "      <th></th>\n",
       "      <th>INCIDENT_ID</th>\n",
       "      <th>DATE</th>\n",
       "      <th>X_1</th>\n",
       "      <th>X_2</th>\n",
       "      <th>X_3</th>\n",
       "      <th>X_4</th>\n",
       "      <th>X_5</th>\n",
       "      <th>X_6</th>\n",
       "      <th>X_7</th>\n",
       "      <th>X_8</th>\n",
       "      <th>X_9</th>\n",
       "      <th>X_10</th>\n",
       "      <th>X_11</th>\n",
       "      <th>X_12</th>\n",
       "      <th>X_13</th>\n",
       "      <th>X_14</th>\n",
       "      <th>X_15</th>\n",
       "      <th>MULTIPLE_OFFENSE</th>\n",
       "    </tr>\n",
       "  </thead>\n",
       "  <tbody>\n",
       "    <tr>\n",
       "      <th>0</th>\n",
       "      <td>CR_102659</td>\n",
       "      <td>04-JUL-04</td>\n",
       "      <td>0</td>\n",
       "      <td>36</td>\n",
       "      <td>34</td>\n",
       "      <td>2</td>\n",
       "      <td>1</td>\n",
       "      <td>5</td>\n",
       "      <td>6</td>\n",
       "      <td>1</td>\n",
       "      <td>6</td>\n",
       "      <td>1</td>\n",
       "      <td>174</td>\n",
       "      <td>1.0</td>\n",
       "      <td>92</td>\n",
       "      <td>29</td>\n",
       "      <td>36</td>\n",
       "      <td>0</td>\n",
       "    </tr>\n",
       "    <tr>\n",
       "      <th>1</th>\n",
       "      <td>CR_189752</td>\n",
       "      <td>18-JUL-17</td>\n",
       "      <td>1</td>\n",
       "      <td>37</td>\n",
       "      <td>37</td>\n",
       "      <td>0</td>\n",
       "      <td>0</td>\n",
       "      <td>11</td>\n",
       "      <td>17</td>\n",
       "      <td>1</td>\n",
       "      <td>6</td>\n",
       "      <td>1</td>\n",
       "      <td>236</td>\n",
       "      <td>1.0</td>\n",
       "      <td>103</td>\n",
       "      <td>142</td>\n",
       "      <td>34</td>\n",
       "      <td>1</td>\n",
       "    </tr>\n",
       "    <tr>\n",
       "      <th>2</th>\n",
       "      <td>CR_184637</td>\n",
       "      <td>15-MAR-17</td>\n",
       "      <td>0</td>\n",
       "      <td>3</td>\n",
       "      <td>2</td>\n",
       "      <td>3</td>\n",
       "      <td>5</td>\n",
       "      <td>1</td>\n",
       "      <td>0</td>\n",
       "      <td>2</td>\n",
       "      <td>3</td>\n",
       "      <td>1</td>\n",
       "      <td>174</td>\n",
       "      <td>1.0</td>\n",
       "      <td>110</td>\n",
       "      <td>93</td>\n",
       "      <td>34</td>\n",
       "      <td>1</td>\n",
       "    </tr>\n",
       "    <tr>\n",
       "      <th>3</th>\n",
       "      <td>CR_139071</td>\n",
       "      <td>13-FEB-09</td>\n",
       "      <td>0</td>\n",
       "      <td>33</td>\n",
       "      <td>32</td>\n",
       "      <td>2</td>\n",
       "      <td>1</td>\n",
       "      <td>7</td>\n",
       "      <td>1</td>\n",
       "      <td>1</td>\n",
       "      <td>6</td>\n",
       "      <td>1</td>\n",
       "      <td>249</td>\n",
       "      <td>1.0</td>\n",
       "      <td>72</td>\n",
       "      <td>29</td>\n",
       "      <td>34</td>\n",
       "      <td>1</td>\n",
       "    </tr>\n",
       "    <tr>\n",
       "      <th>4</th>\n",
       "      <td>CR_109335</td>\n",
       "      <td>13-APR-05</td>\n",
       "      <td>0</td>\n",
       "      <td>33</td>\n",
       "      <td>32</td>\n",
       "      <td>2</td>\n",
       "      <td>1</td>\n",
       "      <td>8</td>\n",
       "      <td>3</td>\n",
       "      <td>0</td>\n",
       "      <td>5</td>\n",
       "      <td>1</td>\n",
       "      <td>174</td>\n",
       "      <td>0.0</td>\n",
       "      <td>112</td>\n",
       "      <td>29</td>\n",
       "      <td>43</td>\n",
       "      <td>1</td>\n",
       "    </tr>\n",
       "  </tbody>\n",
       "</table>\n",
       "</div>"
      ],
      "text/plain": [
       "  INCIDENT_ID       DATE  X_1  X_2  ...  X_13  X_14  X_15  MULTIPLE_OFFENSE\n",
       "0   CR_102659  04-JUL-04    0   36  ...    92    29    36                 0\n",
       "1   CR_189752  18-JUL-17    1   37  ...   103   142    34                 1\n",
       "2   CR_184637  15-MAR-17    0    3  ...   110    93    34                 1\n",
       "3   CR_139071  13-FEB-09    0   33  ...    72    29    34                 1\n",
       "4   CR_109335  13-APR-05    0   33  ...   112    29    43                 1\n",
       "\n",
       "[5 rows x 18 columns]"
      ]
     },
     "execution_count": 5,
     "metadata": {
      "tags": []
     },
     "output_type": "execute_result"
    }
   ],
   "source": [
    "print('Head of the dataframe\\n')\n",
    "\n",
    "df.head()"
   ]
  },
  {
   "cell_type": "code",
   "execution_count": 5,
   "metadata": {
    "colab": {},
    "colab_type": "code",
    "executionInfo": {
     "elapsed": 2879,
     "status": "ok",
     "timestamp": 1592842126153,
     "user": {
      "displayName": "sandeep panchal",
      "photoUrl": "https://lh3.googleusercontent.com/a-/AOh14Gh7IOpMB5glav7I6AkOWH0-Wj6J4HZd3Y9iGvAkJA=s64",
      "userId": "16028125481769875260"
     },
     "user_tz": -330
    },
    "id": "sLRQKMmWZ7yU"
   },
   "outputs": [],
   "source": []
  },
  {
   "cell_type": "markdown",
   "metadata": {
    "colab_type": "text",
    "id": "w1Ark2pyZ1Fl"
   },
   "source": [
    "<center><h1>Exploratory Data Analysis</h>"
   ]
  },
  {
   "cell_type": "markdown",
   "metadata": {
    "colab_type": "text",
    "id": "f5wkdDkemWPu"
   },
   "source": [
    "### Check for null values and dtype"
   ]
  },
  {
   "cell_type": "code",
   "execution_count": 6,
   "metadata": {
    "colab": {
     "base_uri": "https://localhost:8080/",
     "height": 442
    },
    "colab_type": "code",
    "executionInfo": {
     "elapsed": 2007,
     "status": "ok",
     "timestamp": 1592842126155,
     "user": {
      "displayName": "sandeep panchal",
      "photoUrl": "https://lh3.googleusercontent.com/a-/AOh14Gh7IOpMB5glav7I6AkOWH0-Wj6J4HZd3Y9iGvAkJA=s64",
      "userId": "16028125481769875260"
     },
     "user_tz": -330
    },
    "id": "zkSBoQoOmWPv",
    "outputId": "c6340cdc-20c3-4053-ecbd-e60ad1491889"
   },
   "outputs": [
    {
     "name": "stdout",
     "output_type": "stream",
     "text": [
      "<class 'pandas.core.frame.DataFrame'>\n",
      "RangeIndex: 23856 entries, 0 to 23855\n",
      "Data columns (total 18 columns):\n",
      " #   Column            Non-Null Count  Dtype  \n",
      "---  ------            --------------  -----  \n",
      " 0   INCIDENT_ID       23856 non-null  object \n",
      " 1   DATE              23856 non-null  object \n",
      " 2   X_1               23856 non-null  int64  \n",
      " 3   X_2               23856 non-null  int64  \n",
      " 4   X_3               23856 non-null  int64  \n",
      " 5   X_4               23856 non-null  int64  \n",
      " 6   X_5               23856 non-null  int64  \n",
      " 7   X_6               23856 non-null  int64  \n",
      " 8   X_7               23856 non-null  int64  \n",
      " 9   X_8               23856 non-null  int64  \n",
      " 10  X_9               23856 non-null  int64  \n",
      " 11  X_10              23856 non-null  int64  \n",
      " 12  X_11              23856 non-null  int64  \n",
      " 13  X_12              23674 non-null  float64\n",
      " 14  X_13              23856 non-null  int64  \n",
      " 15  X_14              23856 non-null  int64  \n",
      " 16  X_15              23856 non-null  int64  \n",
      " 17  MULTIPLE_OFFENSE  23856 non-null  int64  \n",
      "dtypes: float64(1), int64(15), object(2)\n",
      "memory usage: 3.3+ MB\n"
     ]
    }
   ],
   "source": [
    "df.info()"
   ]
  },
  {
   "cell_type": "markdown",
   "metadata": {
    "colab_type": "text",
    "id": "kS9U-z00mWP1"
   },
   "source": [
    "### Observation:\n",
    "- All columns are with right dypes\n",
    "- No columns have null values except X_12 column.\n",
    "- We will impute with a more meaningful value after a few analysis."
   ]
  },
  {
   "cell_type": "code",
   "execution_count": 7,
   "metadata": {
    "colab": {
     "base_uri": "https://localhost:8080/",
     "height": 317
    },
    "colab_type": "code",
    "executionInfo": {
     "elapsed": 1656,
     "status": "ok",
     "timestamp": 1592842127710,
     "user": {
      "displayName": "sandeep panchal",
      "photoUrl": "https://lh3.googleusercontent.com/a-/AOh14Gh7IOpMB5glav7I6AkOWH0-Wj6J4HZd3Y9iGvAkJA=s64",
      "userId": "16028125481769875260"
     },
     "user_tz": -330
    },
    "id": "RD7Zu_j0mWP2",
    "outputId": "46aacfcc-c0c5-4fc1-8038-da28351743b1"
   },
   "outputs": [
    {
     "data": {
      "text/html": [
       "<div>\n",
       "<style scoped>\n",
       "    .dataframe tbody tr th:only-of-type {\n",
       "        vertical-align: middle;\n",
       "    }\n",
       "\n",
       "    .dataframe tbody tr th {\n",
       "        vertical-align: top;\n",
       "    }\n",
       "\n",
       "    .dataframe thead th {\n",
       "        text-align: right;\n",
       "    }\n",
       "</style>\n",
       "<table border=\"1\" class=\"dataframe\">\n",
       "  <thead>\n",
       "    <tr style=\"text-align: right;\">\n",
       "      <th></th>\n",
       "      <th>X_1</th>\n",
       "      <th>X_2</th>\n",
       "      <th>X_3</th>\n",
       "      <th>X_4</th>\n",
       "      <th>X_5</th>\n",
       "      <th>X_6</th>\n",
       "      <th>X_7</th>\n",
       "      <th>X_8</th>\n",
       "      <th>X_9</th>\n",
       "      <th>X_10</th>\n",
       "      <th>X_11</th>\n",
       "      <th>X_12</th>\n",
       "      <th>X_13</th>\n",
       "      <th>X_14</th>\n",
       "      <th>X_15</th>\n",
       "      <th>MULTIPLE_OFFENSE</th>\n",
       "    </tr>\n",
       "  </thead>\n",
       "  <tbody>\n",
       "    <tr>\n",
       "      <th>count</th>\n",
       "      <td>23856.000000</td>\n",
       "      <td>23856.000000</td>\n",
       "      <td>23856.000000</td>\n",
       "      <td>23856.000000</td>\n",
       "      <td>23856.000000</td>\n",
       "      <td>23856.000000</td>\n",
       "      <td>23856.000000</td>\n",
       "      <td>23856.000000</td>\n",
       "      <td>23856.000000</td>\n",
       "      <td>23856.000000</td>\n",
       "      <td>23856.000000</td>\n",
       "      <td>23674.000000</td>\n",
       "      <td>23856.000000</td>\n",
       "      <td>23856.000000</td>\n",
       "      <td>23856.000000</td>\n",
       "      <td>23856.000000</td>\n",
       "    </tr>\n",
       "    <tr>\n",
       "      <th>mean</th>\n",
       "      <td>0.483778</td>\n",
       "      <td>24.791206</td>\n",
       "      <td>24.637450</td>\n",
       "      <td>4.276744</td>\n",
       "      <td>2.455609</td>\n",
       "      <td>6.154175</td>\n",
       "      <td>4.876509</td>\n",
       "      <td>0.972460</td>\n",
       "      <td>4.924128</td>\n",
       "      <td>1.244802</td>\n",
       "      <td>206.954519</td>\n",
       "      <td>0.974064</td>\n",
       "      <td>85.237383</td>\n",
       "      <td>72.674296</td>\n",
       "      <td>33.464747</td>\n",
       "      <td>0.955231</td>\n",
       "    </tr>\n",
       "    <tr>\n",
       "      <th>std</th>\n",
       "      <td>1.439738</td>\n",
       "      <td>15.240231</td>\n",
       "      <td>15.135093</td>\n",
       "      <td>2.944672</td>\n",
       "      <td>1.963095</td>\n",
       "      <td>4.471756</td>\n",
       "      <td>3.881931</td>\n",
       "      <td>1.453144</td>\n",
       "      <td>1.362625</td>\n",
       "      <td>1.119301</td>\n",
       "      <td>93.033348</td>\n",
       "      <td>1.167725</td>\n",
       "      <td>27.597226</td>\n",
       "      <td>43.297320</td>\n",
       "      <td>8.386834</td>\n",
       "      <td>0.206800</td>\n",
       "    </tr>\n",
       "    <tr>\n",
       "      <th>min</th>\n",
       "      <td>0.000000</td>\n",
       "      <td>0.000000</td>\n",
       "      <td>0.000000</td>\n",
       "      <td>0.000000</td>\n",
       "      <td>0.000000</td>\n",
       "      <td>1.000000</td>\n",
       "      <td>0.000000</td>\n",
       "      <td>0.000000</td>\n",
       "      <td>0.000000</td>\n",
       "      <td>1.000000</td>\n",
       "      <td>0.000000</td>\n",
       "      <td>0.000000</td>\n",
       "      <td>0.000000</td>\n",
       "      <td>0.000000</td>\n",
       "      <td>0.000000</td>\n",
       "      <td>0.000000</td>\n",
       "    </tr>\n",
       "    <tr>\n",
       "      <th>25%</th>\n",
       "      <td>0.000000</td>\n",
       "      <td>7.000000</td>\n",
       "      <td>8.000000</td>\n",
       "      <td>2.000000</td>\n",
       "      <td>1.000000</td>\n",
       "      <td>3.000000</td>\n",
       "      <td>2.000000</td>\n",
       "      <td>0.000000</td>\n",
       "      <td>5.000000</td>\n",
       "      <td>1.000000</td>\n",
       "      <td>174.000000</td>\n",
       "      <td>1.000000</td>\n",
       "      <td>72.000000</td>\n",
       "      <td>29.000000</td>\n",
       "      <td>34.000000</td>\n",
       "      <td>1.000000</td>\n",
       "    </tr>\n",
       "    <tr>\n",
       "      <th>50%</th>\n",
       "      <td>0.000000</td>\n",
       "      <td>24.000000</td>\n",
       "      <td>24.000000</td>\n",
       "      <td>4.000000</td>\n",
       "      <td>3.000000</td>\n",
       "      <td>5.000000</td>\n",
       "      <td>4.000000</td>\n",
       "      <td>1.000000</td>\n",
       "      <td>5.000000</td>\n",
       "      <td>1.000000</td>\n",
       "      <td>249.000000</td>\n",
       "      <td>1.000000</td>\n",
       "      <td>98.000000</td>\n",
       "      <td>62.000000</td>\n",
       "      <td>34.000000</td>\n",
       "      <td>1.000000</td>\n",
       "    </tr>\n",
       "    <tr>\n",
       "      <th>75%</th>\n",
       "      <td>0.000000</td>\n",
       "      <td>36.000000</td>\n",
       "      <td>35.000000</td>\n",
       "      <td>6.000000</td>\n",
       "      <td>5.000000</td>\n",
       "      <td>8.000000</td>\n",
       "      <td>7.000000</td>\n",
       "      <td>1.000000</td>\n",
       "      <td>6.000000</td>\n",
       "      <td>1.000000</td>\n",
       "      <td>249.000000</td>\n",
       "      <td>1.000000</td>\n",
       "      <td>103.000000</td>\n",
       "      <td>107.000000</td>\n",
       "      <td>34.000000</td>\n",
       "      <td>1.000000</td>\n",
       "    </tr>\n",
       "    <tr>\n",
       "      <th>max</th>\n",
       "      <td>7.000000</td>\n",
       "      <td>52.000000</td>\n",
       "      <td>52.000000</td>\n",
       "      <td>10.000000</td>\n",
       "      <td>5.000000</td>\n",
       "      <td>19.000000</td>\n",
       "      <td>18.000000</td>\n",
       "      <td>99.000000</td>\n",
       "      <td>6.000000</td>\n",
       "      <td>90.000000</td>\n",
       "      <td>332.000000</td>\n",
       "      <td>90.000000</td>\n",
       "      <td>116.000000</td>\n",
       "      <td>142.000000</td>\n",
       "      <td>50.000000</td>\n",
       "      <td>1.000000</td>\n",
       "    </tr>\n",
       "  </tbody>\n",
       "</table>\n",
       "</div>"
      ],
      "text/plain": [
       "                X_1           X_2  ...          X_15  MULTIPLE_OFFENSE\n",
       "count  23856.000000  23856.000000  ...  23856.000000      23856.000000\n",
       "mean       0.483778     24.791206  ...     33.464747          0.955231\n",
       "std        1.439738     15.240231  ...      8.386834          0.206800\n",
       "min        0.000000      0.000000  ...      0.000000          0.000000\n",
       "25%        0.000000      7.000000  ...     34.000000          1.000000\n",
       "50%        0.000000     24.000000  ...     34.000000          1.000000\n",
       "75%        0.000000     36.000000  ...     34.000000          1.000000\n",
       "max        7.000000     52.000000  ...     50.000000          1.000000\n",
       "\n",
       "[8 rows x 16 columns]"
      ]
     },
     "execution_count": 7,
     "metadata": {
      "tags": []
     },
     "output_type": "execute_result"
    }
   ],
   "source": [
    "df.describe()"
   ]
  },
  {
   "cell_type": "markdown",
   "metadata": {
    "colab_type": "text",
    "id": "6Bjjx6wIm47S"
   },
   "source": [
    "- Under X_12 column, 25th, 50th and 75th percentile is 1.\n",
    "- We will fill the null values under X_12 with 1"
   ]
  },
  {
   "cell_type": "code",
   "execution_count": 8,
   "metadata": {
    "colab": {},
    "colab_type": "code",
    "executionInfo": {
     "elapsed": 2626,
     "status": "ok",
     "timestamp": 1592842129251,
     "user": {
      "displayName": "sandeep panchal",
      "photoUrl": "https://lh3.googleusercontent.com/a-/AOh14Gh7IOpMB5glav7I6AkOWH0-Wj6J4HZd3Y9iGvAkJA=s64",
      "userId": "16028125481769875260"
     },
     "user_tz": -330
    },
    "id": "nV2F2XLDmWP7"
   },
   "outputs": [],
   "source": [
    "import copy\n",
    "dfc = copy.deepcopy(df)"
   ]
  },
  {
   "cell_type": "code",
   "execution_count": 9,
   "metadata": {
    "colab": {},
    "colab_type": "code",
    "executionInfo": {
     "elapsed": 2360,
     "status": "ok",
     "timestamp": 1592842129254,
     "user": {
      "displayName": "sandeep panchal",
      "photoUrl": "https://lh3.googleusercontent.com/a-/AOh14Gh7IOpMB5glav7I6AkOWH0-Wj6J4HZd3Y9iGvAkJA=s64",
      "userId": "16028125481769875260"
     },
     "user_tz": -330
    },
    "id": "DK0cCoHqoGOC"
   },
   "outputs": [],
   "source": [
    "dfc.fillna(float(1.0), inplace = True)"
   ]
  },
  {
   "cell_type": "markdown",
   "metadata": {
    "colab_type": "text",
    "id": "XzkDjToHaI2G"
   },
   "source": [
    "## Column DATE"
   ]
  },
  {
   "cell_type": "markdown",
   "metadata": {
    "colab_type": "text",
    "id": "88H9da7-aaHq"
   },
   "source": [
    "- Value counts for DATE column"
   ]
  },
  {
   "cell_type": "code",
   "execution_count": 10,
   "metadata": {
    "colab": {
     "base_uri": "https://localhost:8080/",
     "height": 221
    },
    "colab_type": "code",
    "executionInfo": {
     "elapsed": 1178,
     "status": "ok",
     "timestamp": 1592842130143,
     "user": {
      "displayName": "sandeep panchal",
      "photoUrl": "https://lh3.googleusercontent.com/a-/AOh14Gh7IOpMB5glav7I6AkOWH0-Wj6J4HZd3Y9iGvAkJA=s64",
      "userId": "16028125481769875260"
     },
     "user_tz": -330
    },
    "id": "1RxV-d1WaPtz",
    "outputId": "2627be2f-953b-4365-ffb7-3fc34cac605c"
   },
   "outputs": [
    {
     "data": {
      "text/plain": [
       "12-SEP-01    22\n",
       "13-SEP-01    20\n",
       "17-SEP-01    17\n",
       "11-SEP-01    15\n",
       "15-SEP-01    15\n",
       "             ..\n",
       "03-DEC-07     1\n",
       "08-JUN-14     1\n",
       "24-FEB-14     1\n",
       "15-NOV-00     1\n",
       "29-JUL-04     1\n",
       "Name: DATE, Length: 9121, dtype: int64"
      ]
     },
     "execution_count": 10,
     "metadata": {
      "tags": []
     },
     "output_type": "execute_result"
    }
   ],
   "source": [
    "dfc.DATE.value_counts()"
   ]
  },
  {
   "cell_type": "markdown",
   "metadata": {
    "colab_type": "text",
    "id": "mu8_YSr9chqi"
   },
   "source": [
    "- There are 9121 unique types.\n",
    "- We will extract date, month and year from the DATE column and storing in new dataframes.\n",
    "- We will add str(20) to the year if it is less than str(21) and greater than str(99). Also, we will add str(19) if the year is less than str(00). "
   ]
  },
  {
   "cell_type": "code",
   "execution_count": 11,
   "metadata": {
    "colab": {},
    "colab_type": "code",
    "executionInfo": {
     "elapsed": 1463,
     "status": "ok",
     "timestamp": 1592842133644,
     "user": {
      "displayName": "sandeep panchal",
      "photoUrl": "https://lh3.googleusercontent.com/a-/AOh14Gh7IOpMB5glav7I6AkOWH0-Wj6J4HZd3Y9iGvAkJA=s64",
      "userId": "16028125481769875260"
     },
     "user_tz": -330
    },
    "id": "jVX3abMgcwv4"
   },
   "outputs": [],
   "source": [
    "# extracting date\n",
    "dfc['date'] = dfc.DATE.apply(lambda x: x.split('-')[0])\n",
    "\n",
    "# extracting month\n",
    "dfc['month'] = dfc.DATE.apply(lambda x: x.split('-')[1])"
   ]
  },
  {
   "cell_type": "code",
   "execution_count": 12,
   "metadata": {
    "colab": {},
    "colab_type": "code",
    "executionInfo": {
     "elapsed": 867,
     "status": "ok",
     "timestamp": 1592842133652,
     "user": {
      "displayName": "sandeep panchal",
      "photoUrl": "https://lh3.googleusercontent.com/a-/AOh14Gh7IOpMB5glav7I6AkOWH0-Wj6J4HZd3Y9iGvAkJA=s64",
      "userId": "16028125481769875260"
     },
     "user_tz": -330
    },
    "id": "tARU0zckj_BB"
   },
   "outputs": [],
   "source": [
    "# extracting year\n",
    "short_year = ['00', '01', '02', '03', '04', '05', '06', '07', '08', '09', '10', \\\n",
    "              '11', '12', '13', '14', '15', '16', '17', '18', '19', '20']\n",
    "\n",
    "dfc['year'] = dfc.DATE.apply(lambda x: str(20) + x.split('-')[2] if x.split('-')[2]  in short_year else str(19) + x.split('-')[2])"
   ]
  },
  {
   "cell_type": "code",
   "execution_count": 13,
   "metadata": {
    "colab": {
     "base_uri": "https://localhost:8080/",
     "height": 204
    },
    "colab_type": "code",
    "executionInfo": {
     "elapsed": 1432,
     "status": "ok",
     "timestamp": 1592842136107,
     "user": {
      "displayName": "sandeep panchal",
      "photoUrl": "https://lh3.googleusercontent.com/a-/AOh14Gh7IOpMB5glav7I6AkOWH0-Wj6J4HZd3Y9iGvAkJA=s64",
      "userId": "16028125481769875260"
     },
     "user_tz": -330
    },
    "id": "CayymE-8iWrO",
    "outputId": "ba13de27-1bb9-40a8-e67d-010f20bc0ea1"
   },
   "outputs": [
    {
     "data": {
      "text/html": [
       "<div>\n",
       "<style scoped>\n",
       "    .dataframe tbody tr th:only-of-type {\n",
       "        vertical-align: middle;\n",
       "    }\n",
       "\n",
       "    .dataframe tbody tr th {\n",
       "        vertical-align: top;\n",
       "    }\n",
       "\n",
       "    .dataframe thead th {\n",
       "        text-align: right;\n",
       "    }\n",
       "</style>\n",
       "<table border=\"1\" class=\"dataframe\">\n",
       "  <thead>\n",
       "    <tr style=\"text-align: right;\">\n",
       "      <th></th>\n",
       "      <th>INCIDENT_ID</th>\n",
       "      <th>DATE</th>\n",
       "      <th>X_1</th>\n",
       "      <th>X_2</th>\n",
       "      <th>X_3</th>\n",
       "      <th>X_4</th>\n",
       "      <th>X_5</th>\n",
       "      <th>X_6</th>\n",
       "      <th>X_7</th>\n",
       "      <th>X_8</th>\n",
       "      <th>X_9</th>\n",
       "      <th>X_10</th>\n",
       "      <th>X_11</th>\n",
       "      <th>X_12</th>\n",
       "      <th>X_13</th>\n",
       "      <th>X_14</th>\n",
       "      <th>X_15</th>\n",
       "      <th>MULTIPLE_OFFENSE</th>\n",
       "      <th>date</th>\n",
       "      <th>month</th>\n",
       "      <th>year</th>\n",
       "    </tr>\n",
       "  </thead>\n",
       "  <tbody>\n",
       "    <tr>\n",
       "      <th>0</th>\n",
       "      <td>CR_102659</td>\n",
       "      <td>04-JUL-04</td>\n",
       "      <td>0</td>\n",
       "      <td>36</td>\n",
       "      <td>34</td>\n",
       "      <td>2</td>\n",
       "      <td>1</td>\n",
       "      <td>5</td>\n",
       "      <td>6</td>\n",
       "      <td>1</td>\n",
       "      <td>6</td>\n",
       "      <td>1</td>\n",
       "      <td>174</td>\n",
       "      <td>1.0</td>\n",
       "      <td>92</td>\n",
       "      <td>29</td>\n",
       "      <td>36</td>\n",
       "      <td>0</td>\n",
       "      <td>04</td>\n",
       "      <td>JUL</td>\n",
       "      <td>2004</td>\n",
       "    </tr>\n",
       "    <tr>\n",
       "      <th>1</th>\n",
       "      <td>CR_189752</td>\n",
       "      <td>18-JUL-17</td>\n",
       "      <td>1</td>\n",
       "      <td>37</td>\n",
       "      <td>37</td>\n",
       "      <td>0</td>\n",
       "      <td>0</td>\n",
       "      <td>11</td>\n",
       "      <td>17</td>\n",
       "      <td>1</td>\n",
       "      <td>6</td>\n",
       "      <td>1</td>\n",
       "      <td>236</td>\n",
       "      <td>1.0</td>\n",
       "      <td>103</td>\n",
       "      <td>142</td>\n",
       "      <td>34</td>\n",
       "      <td>1</td>\n",
       "      <td>18</td>\n",
       "      <td>JUL</td>\n",
       "      <td>2017</td>\n",
       "    </tr>\n",
       "    <tr>\n",
       "      <th>2</th>\n",
       "      <td>CR_184637</td>\n",
       "      <td>15-MAR-17</td>\n",
       "      <td>0</td>\n",
       "      <td>3</td>\n",
       "      <td>2</td>\n",
       "      <td>3</td>\n",
       "      <td>5</td>\n",
       "      <td>1</td>\n",
       "      <td>0</td>\n",
       "      <td>2</td>\n",
       "      <td>3</td>\n",
       "      <td>1</td>\n",
       "      <td>174</td>\n",
       "      <td>1.0</td>\n",
       "      <td>110</td>\n",
       "      <td>93</td>\n",
       "      <td>34</td>\n",
       "      <td>1</td>\n",
       "      <td>15</td>\n",
       "      <td>MAR</td>\n",
       "      <td>2017</td>\n",
       "    </tr>\n",
       "    <tr>\n",
       "      <th>3</th>\n",
       "      <td>CR_139071</td>\n",
       "      <td>13-FEB-09</td>\n",
       "      <td>0</td>\n",
       "      <td>33</td>\n",
       "      <td>32</td>\n",
       "      <td>2</td>\n",
       "      <td>1</td>\n",
       "      <td>7</td>\n",
       "      <td>1</td>\n",
       "      <td>1</td>\n",
       "      <td>6</td>\n",
       "      <td>1</td>\n",
       "      <td>249</td>\n",
       "      <td>1.0</td>\n",
       "      <td>72</td>\n",
       "      <td>29</td>\n",
       "      <td>34</td>\n",
       "      <td>1</td>\n",
       "      <td>13</td>\n",
       "      <td>FEB</td>\n",
       "      <td>2009</td>\n",
       "    </tr>\n",
       "    <tr>\n",
       "      <th>4</th>\n",
       "      <td>CR_109335</td>\n",
       "      <td>13-APR-05</td>\n",
       "      <td>0</td>\n",
       "      <td>33</td>\n",
       "      <td>32</td>\n",
       "      <td>2</td>\n",
       "      <td>1</td>\n",
       "      <td>8</td>\n",
       "      <td>3</td>\n",
       "      <td>0</td>\n",
       "      <td>5</td>\n",
       "      <td>1</td>\n",
       "      <td>174</td>\n",
       "      <td>0.0</td>\n",
       "      <td>112</td>\n",
       "      <td>29</td>\n",
       "      <td>43</td>\n",
       "      <td>1</td>\n",
       "      <td>13</td>\n",
       "      <td>APR</td>\n",
       "      <td>2005</td>\n",
       "    </tr>\n",
       "  </tbody>\n",
       "</table>\n",
       "</div>"
      ],
      "text/plain": [
       "  INCIDENT_ID       DATE  X_1  X_2  ...  MULTIPLE_OFFENSE  date  month  year\n",
       "0   CR_102659  04-JUL-04    0   36  ...                 0    04    JUL  2004\n",
       "1   CR_189752  18-JUL-17    1   37  ...                 1    18    JUL  2017\n",
       "2   CR_184637  15-MAR-17    0    3  ...                 1    15    MAR  2017\n",
       "3   CR_139071  13-FEB-09    0   33  ...                 1    13    FEB  2009\n",
       "4   CR_109335  13-APR-05    0   33  ...                 1    13    APR  2005\n",
       "\n",
       "[5 rows x 21 columns]"
      ]
     },
     "execution_count": 13,
     "metadata": {
      "tags": []
     },
     "output_type": "execute_result"
    }
   ],
   "source": [
    "dfc.head()"
   ]
  },
  {
   "cell_type": "markdown",
   "metadata": {
    "colab_type": "text",
    "id": "u-HMAp-hnr0c"
   },
   "source": [
    "### Visualize monthly MULTIPLE OFFENSE"
   ]
  },
  {
   "cell_type": "code",
   "execution_count": 14,
   "metadata": {
    "colab": {
     "base_uri": "https://localhost:8080/",
     "height": 523
    },
    "colab_type": "code",
    "executionInfo": {
     "elapsed": 2092,
     "status": "ok",
     "timestamp": 1592842137335,
     "user": {
      "displayName": "sandeep panchal",
      "photoUrl": "https://lh3.googleusercontent.com/a-/AOh14Gh7IOpMB5glav7I6AkOWH0-Wj6J4HZd3Y9iGvAkJA=s64",
      "userId": "16028125481769875260"
     },
     "user_tz": -330
    },
    "id": "KudvhVI_nwji",
    "outputId": "0391d3c0-6da8-4d32-f99c-f2ba21bceb67"
   },
   "outputs": [
    {
     "data": {
      "image/png": "[encoded data removed]",
      "text/plain": [
       "<Figure size 1008x576 with 1 Axes>"
      ]
     },
     "metadata": {
      "needs_background": "light",
      "tags": []
     },
     "output_type": "display_data"
    }
   ],
   "source": [
    "plt.figure(figsize = (14,8))\n",
    "\n",
    "sns.set_style('darkgrid')\n",
    "ax = sns.countplot(dfc.month)\n",
    "ax.set_xlabel('Month', fontsize = 15)\n",
    "ax.set_ylabel('Multiple Offense Count', fontsize = 15)\n",
    "ax.set_title('Multiple OffenSe per Month', fontsize = 15)\n",
    "\n",
    "plt.xticks(fontsize = 13)\n",
    "plt.yticks(np.arange(0, 3001, 500), fontsize = 13)\n",
    "\n",
    "for i in ax.patches:\n",
    "    ax.text(i.get_x()+0.2, i.get_height() + 50, \\\n",
    "            str(i.get_height()))\n",
    "plt.show()\n"
   ]
  },
  {
   "cell_type": "markdown",
   "metadata": {
    "colab_type": "text",
    "id": "oSTqbllgtG8x"
   },
   "source": [
    "### Observation:\n",
    "- Least offence happend in the month of December while more in the month of September."
   ]
  },
  {
   "cell_type": "markdown",
   "metadata": {
    "colab_type": "text",
    "id": "8OdXnVELtbTn"
   },
   "source": [
    "### Visualize yearly MULTIPLE OFFENSE"
   ]
  },
  {
   "cell_type": "code",
   "execution_count": 15,
   "metadata": {
    "colab": {
     "base_uri": "https://localhost:8080/",
     "height": 523
    },
    "colab_type": "code",
    "executionInfo": {
     "elapsed": 1933,
     "status": "ok",
     "timestamp": 1592842142535,
     "user": {
      "displayName": "sandeep panchal",
      "photoUrl": "https://lh3.googleusercontent.com/a-/AOh14Gh7IOpMB5glav7I6AkOWH0-Wj6J4HZd3Y9iGvAkJA=s64",
      "userId": "16028125481769875260"
     },
     "user_tz": -330
    },
    "id": "mXAgpljRtf6d",
    "outputId": "9b3cfe86-b064-4a58-ea90-b4d6fc4d533d"
   },
   "outputs": [
    {
     "data": {
      "image/png": "[encoded data removed]",
      "text/plain": [
       "<Figure size 1440x576 with 1 Axes>"
      ]
     },
     "metadata": {
      "tags": []
     },
     "output_type": "display_data"
    }
   ],
   "source": [
    "plt.figure(figsize = (20,8))\n",
    "\n",
    "sns.set_style('darkgrid')\n",
    "ax = sns.countplot(dfc.year)\n",
    "ax.set_xlabel('Year', fontsize = 15)\n",
    "ax.set_ylabel('Multiple Offense Count', fontsize = 15)\n",
    "ax.set_title('Multiple OffenSe per year', fontsize = 15)\n",
    "\n",
    "plt.xticks(fontsize = 13)\n",
    "plt.yticks(np.arange(0, 1601, 200), fontsize = 13)\n",
    "\n",
    "for i in ax.patches:\n",
    "    ax.text(i.get_x()+0.2, i.get_height() + 50, \\\n",
    "            str(i.get_height()))\n",
    "plt.show()\n"
   ]
  },
  {
   "cell_type": "markdown",
   "metadata": {
    "colab_type": "text",
    "id": "3upd_Awxt3HF"
   },
   "source": [
    "### Observation:\n",
    "- Least offence is in the year 1991 and more in the year 2001."
   ]
  },
  {
   "cell_type": "markdown",
   "metadata": {
    "colab_type": "text",
    "id": "Mrc28Ep8_TfQ"
   },
   "source": [
    "### Label Encoding date, month and year columns"
   ]
  },
  {
   "cell_type": "code",
   "execution_count": 16,
   "metadata": {
    "colab": {},
    "colab_type": "code",
    "executionInfo": {
     "elapsed": 876,
     "status": "ok",
     "timestamp": 1592842143642,
     "user": {
      "displayName": "sandeep panchal",
      "photoUrl": "https://lh3.googleusercontent.com/a-/AOh14Gh7IOpMB5glav7I6AkOWH0-Wj6J4HZd3Y9iGvAkJA=s64",
      "userId": "16028125481769875260"
     },
     "user_tz": -330
    },
    "id": "RY-D9mHuw-k7"
   },
   "outputs": [],
   "source": [
    "from sklearn.preprocessing import LabelEncoder\n",
    "\n",
    "# label encoding date\n",
    "le_date = LabelEncoder()\n",
    "le_date.fit(dfc.date)\n",
    "dfc.date = le_date.transform(dfc.date)\n",
    "\n",
    "# label encoding month\n",
    "le_month = LabelEncoder()\n",
    "le_month.fit(dfc.month)\n",
    "dfc.month = le_month.transform(dfc.month)\n",
    "\n",
    "# label encoding year\n",
    "le_year = LabelEncoder()\n",
    "le_year.fit(dfc.year)\n",
    "dfc.year = le_year.transform(dfc.year)"
   ]
  },
  {
   "cell_type": "markdown",
   "metadata": {
    "colab_type": "text",
    "id": "rqF47xUpZLPc"
   },
   "source": [
    "## Correlation for feature selection"
   ]
  },
  {
   "cell_type": "markdown",
   "metadata": {
    "colab_type": "text",
    "id": "yUsnbWduZPbH"
   },
   "source": [
    "### Pandas Profiling for EDA"
   ]
  },
  {
   "cell_type": "code",
   "execution_count": null,
   "metadata": {
    "colab": {},
    "colab_type": "code",
    "id": "UzEQrIg0ZS1U"
   },
   "outputs": [],
   "source": [
    "# import pandas_profiling as pp\n",
    "\n",
    "# pp.ProfileReport(dfc.drop(['INCIDENT_ID', 'DATE'], axis = 1))"
   ]
  },
  {
   "cell_type": "markdown",
   "metadata": {
    "colab_type": "text",
    "id": "Rj-lI38Oa82m"
   },
   "source": [
    "### Checking correlation with heatmap"
   ]
  },
  {
   "cell_type": "code",
   "execution_count": null,
   "metadata": {
    "colab": {
     "base_uri": "https://localhost:8080/",
     "height": 829
    },
    "colab_type": "code",
    "executionInfo": {
     "elapsed": 4463,
     "status": "ok",
     "timestamp": 1592652471799,
     "user": {
      "displayName": "sandeep panchal",
      "photoUrl": "https://lh3.googleusercontent.com/a-/AOh14Gh7IOpMB5glav7I6AkOWH0-Wj6J4HZd3Y9iGvAkJA=s64",
      "userId": "16028125481769875260"
     },
     "user_tz": -330
    },
    "id": "s7UKJi_ua7fy",
    "outputId": "f0ebace3-1e94-4618-e5e0-7850118977e8"
   },
   "outputs": [
    {
     "name": "stdout",
     "output_type": "stream",
     "text": [
      "Correlation with heatmap\n",
      "\n"
     ]
    },
    {
     "data": {
      "text/plain": [
       "<function matplotlib.pyplot.show>"
      ]
     },
     "execution_count": 33,
     "metadata": {
      "tags": []
     },
     "output_type": "execute_result"
    },
    {
     "data": {
      "image/png": "[encoded data removed]",
      "text/plain": [
       "<Figure size 1600x800 with 2 Axes>"
      ]
     },
     "metadata": {
      "tags": []
     },
     "output_type": "display_data"
    }
   ],
   "source": [
    "print('Correlation with heatmap\\n')\n",
    "\n",
    "plt.figure(figsize = (16,8))\n",
    "sns.heatmap(dfc.corr(), annot = True)\n",
    "plt.show"
   ]
  },
  {
   "cell_type": "markdown",
   "metadata": {
    "colab_type": "text",
    "id": "zJHO5zQkc_hR"
   },
   "source": [
    "### Multi-collinearity problem\n",
    "- When one feature can be represented interms of other, it can impact the performace leading the multi-collinearity problem.\n",
    "- If the features are perfectly positive (1) or negative (-1), we can remove one of the features.\n",
    "- Though decision tree and boosted algorithms are immune to multi-collinearity, we will still remove one of the perfectly correlated features.\n",
    "- We can remove one of the features that have correlation value more than 0.9 or 0.95 or any set threshold value as per the domain knowledge.\n",
    "- In the above case, we can see X_2 and X_3 have a perfect positive correlation of the value 1. We will remove either X_2 or X_3.\n"
   ]
  },
  {
   "cell_type": "code",
   "execution_count": null,
   "metadata": {
    "colab": {},
    "colab_type": "code",
    "id": "HhY4Gb7jeIIt"
   },
   "outputs": [],
   "source": [
    "# dropping X_2 as it is perfectly positive correlated with X_3 with the correlation value of 1.\n",
    "dfc.drop('X_2', axis  = 1, inplace = True)"
   ]
  },
  {
   "cell_type": "markdown",
   "metadata": {
    "colab_type": "text",
    "id": "nj_SwiyYx_KG"
   },
   "source": [
    "### Column MULTIPLE_OFFENSE"
   ]
  },
  {
   "cell_type": "markdown",
   "metadata": {
    "colab_type": "text",
    "id": "pKBbVp_cyIWV"
   },
   "source": [
    "### Visualize MULTIPLE OFFENCE count"
   ]
  },
  {
   "cell_type": "code",
   "execution_count": null,
   "metadata": {
    "colab": {
     "base_uri": "https://localhost:8080/",
     "height": 582
    },
    "colab_type": "code",
    "executionInfo": {
     "elapsed": 1266,
     "status": "ok",
     "timestamp": 1592652477582,
     "user": {
      "displayName": "sandeep panchal",
      "photoUrl": "https://lh3.googleusercontent.com/a-/AOh14Gh7IOpMB5glav7I6AkOWH0-Wj6J4HZd3Y9iGvAkJA=s64",
      "userId": "16028125481769875260"
     },
     "user_tz": -330
    },
    "id": "JdzKDPS3eOg_",
    "outputId": "8d9d82bd-ce4a-48b8-e933-085d8c9b6e73"
   },
   "outputs": [
    {
     "data": {
      "image/png": "[encoded data removed]",
      "text/plain": [
       "<Figure size 800x600 with 1 Axes>"
      ]
     },
     "metadata": {
      "tags": []
     },
     "output_type": "display_data"
    }
   ],
   "source": [
    "plt.figure(figsize = (8,6))\n",
    "\n",
    "sns.set_style('darkgrid')\n",
    "ax = sns.countplot(dfc.MULTIPLE_OFFENSE)\n",
    "ax.set_xlabel('MULTIPLE_OFFENSE', fontsize = 15)\n",
    "ax.set_ylabel('Multiple Offense Count', fontsize = 15)\n",
    "ax.set_title('Multiple Offence Count', fontsize = 15)\n",
    "\n",
    "plt.xticks(fontsize = 13)\n",
    "plt.yticks(np.arange(0, 26001, 5000), fontsize = 13)\n",
    "\n",
    "for i in ax.patches:\n",
    "    ax.text(i.get_x()+0.2, i.get_height() + 50, \\\n",
    "            str(i.get_height()))\n",
    "plt.show()\n"
   ]
  },
  {
   "cell_type": "markdown",
   "metadata": {
    "colab_type": "text",
    "id": "fb9V0B26yjct"
   },
   "source": [
    "### Observation:\n",
    "- Data set is hugely imbalance.\n",
    "- Label 0 is just 5% and the label 1 is 95%\n",
    "- We will handle this imabalance data set with upsampling the minority classes."
   ]
  },
  {
   "cell_type": "markdown",
   "metadata": {
    "colab_type": "text",
    "id": "ERBbV-Cgz0Kx"
   },
   "source": [
    "### Upsampling minority classes (0)"
   ]
  },
  {
   "cell_type": "code",
   "execution_count": null,
   "metadata": {
    "colab": {
     "base_uri": "https://localhost:8080/",
     "height": 51
    },
    "colab_type": "code",
    "executionInfo": {
     "elapsed": 1182,
     "status": "ok",
     "timestamp": 1592652481289,
     "user": {
      "displayName": "sandeep panchal",
      "photoUrl": "https://lh3.googleusercontent.com/a-/AOh14Gh7IOpMB5glav7I6AkOWH0-Wj6J4HZd3Y9iGvAkJA=s64",
      "userId": "16028125481769875260"
     },
     "user_tz": -330
    },
    "id": "EekTWuaWzmuB",
    "outputId": "2c48225c-dff9-4efc-fc18-69f743e4f634"
   },
   "outputs": [
    {
     "name": "stdout",
     "output_type": "stream",
     "text": [
      "Shape of majority (22788, 20)\n",
      "Shape of minority (1068, 20)\n"
     ]
    }
   ],
   "source": [
    "# Separate majority and minority classes\n",
    "df_majority = dfc[dfc.MULTIPLE_OFFENSE == 1]\n",
    "df_minority = dfc[dfc.MULTIPLE_OFFENSE == 0]\n",
    "\n",
    "print('Shape of majority', df_majority.shape)\n",
    "print('Shape of minority', df_minority.shape)"
   ]
  },
  {
   "cell_type": "code",
   "execution_count": null,
   "metadata": {
    "colab": {
     "base_uri": "https://localhost:8080/",
     "height": 68
    },
    "colab_type": "code",
    "executionInfo": {
     "elapsed": 988,
     "status": "ok",
     "timestamp": 1592652484803,
     "user": {
      "displayName": "sandeep panchal",
      "photoUrl": "https://lh3.googleusercontent.com/a-/AOh14Gh7IOpMB5glav7I6AkOWH0-Wj6J4HZd3Y9iGvAkJA=s64",
      "userId": "16028125481769875260"
     },
     "user_tz": -330
    },
    "id": "1JB8YxPGz_ys",
    "outputId": "05be805c-2f42-4fc9-a531-5f104e555ee2"
   },
   "outputs": [
    {
     "data": {
      "text/plain": [
       "1    22788\n",
       "0    22788\n",
       "Name: MULTIPLE_OFFENSE, dtype: int64"
      ]
     },
     "execution_count": 36,
     "metadata": {
      "tags": []
     },
     "output_type": "execute_result"
    }
   ],
   "source": [
    "from sklearn.utils import resample\n",
    "\n",
    "# Upsample minority class\n",
    "df_minority_upsampled = resample(df_minority, \n",
    "                                 replace = True,     # sample with replacement\n",
    "                                 n_samples = df_majority.shape[0],    # to match majority class\n",
    "                                 random_state = 123) # reproducible results\n",
    " \n",
    "# Combine majority class with upsampled minority class\n",
    "df_upsampled = pd.concat([df_majority, df_minority_upsampled])\n",
    " \n",
    "# Display new class counts\n",
    "df_upsampled.MULTIPLE_OFFENSE.value_counts()"
   ]
  },
  {
   "cell_type": "code",
   "execution_count": null,
   "metadata": {
    "colab": {},
    "colab_type": "code",
    "id": "8A4_2KTT0Zkp"
   },
   "outputs": [],
   "source": [
    "dfc = copy.deepcopy(df_upsampled)"
   ]
  },
  {
   "cell_type": "markdown",
   "metadata": {
    "colab_type": "text",
    "id": "P3RuTZKh0Ps1"
   },
   "source": [
    "### Visualize label count after upsampling"
   ]
  },
  {
   "cell_type": "code",
   "execution_count": null,
   "metadata": {
    "colab": {
     "base_uri": "https://localhost:8080/",
     "height": 582
    },
    "colab_type": "code",
    "executionInfo": {
     "elapsed": 1247,
     "status": "ok",
     "timestamp": 1592652488414,
     "user": {
      "displayName": "sandeep panchal",
      "photoUrl": "https://lh3.googleusercontent.com/a-/AOh14Gh7IOpMB5glav7I6AkOWH0-Wj6J4HZd3Y9iGvAkJA=s64",
      "userId": "16028125481769875260"
     },
     "user_tz": -330
    },
    "id": "JX8xTqnk0VtF",
    "outputId": "0a05982b-45f6-4872-99b0-59a9f047911a"
   },
   "outputs": [
    {
     "data": {
      "image/png": "[encoded data removed]",
      "text/plain": [
       "<Figure size 800x600 with 1 Axes>"
      ]
     },
     "metadata": {
      "tags": []
     },
     "output_type": "display_data"
    }
   ],
   "source": [
    "plt.figure(figsize = (8,6))\n",
    "\n",
    "sns.set_style('darkgrid')\n",
    "ax = sns.countplot(dfc.MULTIPLE_OFFENSE)\n",
    "ax.set_xlabel('MULTIPLE_OFFENSE', fontsize = 15)\n",
    "ax.set_ylabel('Multiple Offense Count', fontsize = 15)\n",
    "ax.set_title('Multiple Offence Count', fontsize = 15)\n",
    "\n",
    "plt.xticks(fontsize = 13)\n",
    "plt.yticks(np.arange(0, 26001, 5000), fontsize = 13)\n",
    "\n",
    "for i in ax.patches:\n",
    "    ax.text(i.get_x()+0.2, i.get_height() + 50, \\\n",
    "            str(i.get_height()))\n",
    "plt.show()\n"
   ]
  },
  {
   "cell_type": "markdown",
   "metadata": {
    "colab_type": "text",
    "id": "MSKDvrJP0d91"
   },
   "source": [
    "### Observation:\n",
    "- Now the data set is balanced after upsampling the minority class."
   ]
  },
  {
   "cell_type": "code",
   "execution_count": null,
   "metadata": {
    "colab": {},
    "colab_type": "code",
    "id": "AzIwFRe6zmqB"
   },
   "outputs": [],
   "source": []
  },
  {
   "cell_type": "markdown",
   "metadata": {
    "colab_type": "text",
    "id": "KeG4JdzkrQIE"
   },
   "source": [
    "<center><h>"
   ]
  },
  {
   "cell_type": "markdown",
   "metadata": {
    "colab_type": "text",
    "id": "6l9yD2gwrSsv"
   },
   "source": [
    "<center><h1>XGBoost Algorithm Model</h1>"
   ]
  },
  {
   "cell_type": "code",
   "execution_count": null,
   "metadata": {
    "colab": {},
    "colab_type": "code",
    "id": "xQicxD9irqlB"
   },
   "outputs": [],
   "source": [
    "x = dfc.drop(['INCIDENT_ID', 'DATE', 'MULTIPLE_OFFENSE'], axis = 1)\n",
    "y = dfc.MULTIPLE_OFFENSE.values"
   ]
  },
  {
   "cell_type": "code",
   "execution_count": null,
   "metadata": {
    "colab": {},
    "colab_type": "code",
    "id": "jJyKbrmcoLEg"
   },
   "outputs": [],
   "source": [
    "from sklearn.model_selection import train_test_split\n",
    "x_train, x_test, y_train, y_test = train_test_split(x, y, test_size = 0.1, shuffle = True, random_state = 0)"
   ]
  },
  {
   "cell_type": "code",
   "execution_count": null,
   "metadata": {
    "colab": {
     "base_uri": "https://localhost:8080/",
     "height": 85
    },
    "colab_type": "code",
    "executionInfo": {
     "elapsed": 690,
     "status": "ok",
     "timestamp": 1592652502281,
     "user": {
      "displayName": "sandeep panchal",
      "photoUrl": "https://lh3.googleusercontent.com/a-/AOh14Gh7IOpMB5glav7I6AkOWH0-Wj6J4HZd3Y9iGvAkJA=s64",
      "userId": "16028125481769875260"
     },
     "user_tz": -330
    },
    "id": "tdyoMTZxoNGK",
    "outputId": "263346fe-90ea-4e06-f474-b7c5b08441eb"
   },
   "outputs": [
    {
     "name": "stdout",
     "output_type": "stream",
     "text": [
      "Shape of x_train: (41018, 17)\n",
      "Shape of x_test: (4558, 17)\n",
      "Shape of y_train: (41018,)\n",
      "Shape of y_test: (4558,)\n"
     ]
    }
   ],
   "source": [
    "print('Shape of x_train:', x_train.shape)\n",
    "print('Shape of x_test:', x_test.shape)\n",
    "print('Shape of y_train:', y_train.shape)\n",
    "print('Shape of y_test:', y_test.shape)"
   ]
  },
  {
   "cell_type": "markdown",
   "metadata": {
    "colab_type": "text",
    "id": "tmyi9X_afRXT"
   },
   "source": [
    "### Hyperparameter tuning"
   ]
  },
  {
   "cell_type": "code",
   "execution_count": null,
   "metadata": {
    "colab": {
     "base_uri": "https://localhost:8080/",
     "height": 51
    },
    "colab_type": "code",
    "executionInfo": {
     "elapsed": 1099443,
     "status": "ok",
     "timestamp": 1592657240797,
     "user": {
      "displayName": "sandeep panchal",
      "photoUrl": "https://lh3.googleusercontent.com/a-/AOh14Gh7IOpMB5glav7I6AkOWH0-Wj6J4HZd3Y9iGvAkJA=s64",
      "userId": "16028125481769875260"
     },
     "user_tz": -330
    },
    "id": "zJbVW-A_2AHR",
    "outputId": "4e65fb62-ec98-4e18-a8d1-53fae2574790"
   },
   "outputs": [
    {
     "name": "stdout",
     "output_type": "stream",
     "text": [
      "CPU times: user 18min 14s, sys: 2.97 s, total: 18min 17s\n",
      "Wall time: 18min 18s\n"
     ]
    }
   ],
   "source": [
    "%%time\n",
    "\n",
    "from sklearn.model_selection import GridSearchCV\n",
    "from xgboost import XGBClassifier\n",
    "\n",
    "params = {'n_estimators': [5, 10, 30, 50, 70, 90, 120, 150, 170, 190, 210],\n",
    "          'max_depth': [2, 3, 5, 8, 10, 12, 14]}\n",
    "\n",
    "xg = XGBClassifier()\n",
    "\n",
    "clf_xg = GridSearchCV(xg, params, cv = 4, return_train_score = True, scoring = 'recall')\n",
    "\n",
    "clf_xg.fit(x_train, y_train)"
   ]
  },
  {
   "cell_type": "code",
   "execution_count": null,
   "metadata": {
    "colab": {
     "base_uri": "https://localhost:8080/",
     "height": 153
    },
    "colab_type": "code",
    "executionInfo": {
     "elapsed": 1089,
     "status": "ok",
     "timestamp": 1592657251688,
     "user": {
      "displayName": "sandeep panchal",
      "photoUrl": "https://lh3.googleusercontent.com/a-/AOh14Gh7IOpMB5glav7I6AkOWH0-Wj6J4HZd3Y9iGvAkJA=s64",
      "userId": "16028125481769875260"
     },
     "user_tz": -330
    },
    "id": "pfcq0EBMqzOy",
    "outputId": "84ce5fcc-7d82-4078-9c8e-03cbfaaf071c"
   },
   "outputs": [
    {
     "name": "stdout",
     "output_type": "stream",
     "text": [
      "Best estimator: XGBClassifier(base_score=0.5, booster='gbtree', colsample_bylevel=1,\n",
      "              colsample_bynode=1, colsample_bytree=1, gamma=0,\n",
      "              learning_rate=0.1, max_delta_step=0, max_depth=5,\n",
      "              min_child_weight=1, missing=None, n_estimators=210, n_jobs=1,\n",
      "              nthread=None, objective='binary:logistic', random_state=0,\n",
      "              reg_alpha=0, reg_lambda=1, scale_pos_weight=1, seed=None,\n",
      "              silent=None, subsample=1, verbosity=1)\n",
      "Best score: 0.9991707031473125\n"
     ]
    }
   ],
   "source": [
    "print('Best estimator:', clf_xg.best_estimator_)\n",
    "print('Best score:', clf_xg.best_score_)"
   ]
  },
  {
   "cell_type": "code",
   "execution_count": null,
   "metadata": {
    "colab": {},
    "colab_type": "code",
    "id": "2ZaRqRC80Ail"
   },
   "outputs": [],
   "source": [
    "import pickle\n",
    "# pickle.dump(clf_xg, open('/content/drive/My Drive/Novartis/clf_xgboost.pkl', 'wb'))"
   ]
  },
  {
   "cell_type": "markdown",
   "metadata": {
    "colab_type": "text",
    "id": "Rn5vdCO11NZ0"
   },
   "source": [
    "### Predicting x_test and check if it is overfitting or not"
   ]
  },
  {
   "cell_type": "code",
   "execution_count": null,
   "metadata": {
    "colab": {},
    "colab_type": "code",
    "id": "r8_R9fJgtaE3"
   },
   "outputs": [],
   "source": [
    "# predicting x_test\n",
    "pred_xtest_xg = clf_xg.predict(x_test)\n",
    "\n",
    "# predicting x_train\n",
    "pred_xtrain_xg = clf_xg.predict(x_train)\n"
   ]
  },
  {
   "cell_type": "code",
   "execution_count": null,
   "metadata": {
    "colab": {
     "base_uri": "https://localhost:8080/",
     "height": 51
    },
    "colab_type": "code",
    "executionInfo": {
     "elapsed": 759,
     "status": "ok",
     "timestamp": 1592657260625,
     "user": {
      "displayName": "sandeep panchal",
      "photoUrl": "https://lh3.googleusercontent.com/a-/AOh14Gh7IOpMB5glav7I6AkOWH0-Wj6J4HZd3Y9iGvAkJA=s64",
      "userId": "16028125481769875260"
     },
     "user_tz": -330
    },
    "id": "uhWF6bPEjvsL",
    "outputId": "2b988903-8868-4135-be4b-185b8e4839f1"
   },
   "outputs": [
    {
     "name": "stdout",
     "output_type": "stream",
     "text": [
      "x_train recall score: 0.9999024295053176\n",
      "x_test recall score: 1.0\n"
     ]
    }
   ],
   "source": [
    "from sklearn.metrics import recall_score\n",
    "pred_xtrain_score = recall_score(y_train, pred_xtrain_xg)\n",
    "pred_xtest_score = recall_score(y_test, pred_xtest_xg)\n",
    "\n",
    "print('x_train recall score:', pred_xtrain_score)\n",
    "print('x_test recall score:', pred_xtest_score)"
   ]
  },
  {
   "cell_type": "markdown",
   "metadata": {
    "colab_type": "text",
    "id": "aqEr9Be-j0p9"
   },
   "source": [
    "### Visualizing score to check overfitting"
   ]
  },
  {
   "cell_type": "code",
   "execution_count": null,
   "metadata": {
    "colab": {},
    "colab_type": "code",
    "id": "CPv6RKRPkQeC"
   },
   "outputs": [],
   "source": [
    "# get the results\n",
    "result_xg = clf_xg.cv_results_\n",
    "\n",
    "# get the train and cv accuracy\n",
    "train_recall = result_xg['mean_train_score']\n",
    "cv_recall = result_xg['mean_test_score']\n",
    "\n",
    "# get the parameters\n",
    "param_max_depth = result_xg['param_max_depth']\n",
    "param_n_estimators = result_xg['param_n_estimators']"
   ]
  },
  {
   "cell_type": "code",
   "execution_count": null,
   "metadata": {
    "colab": {},
    "colab_type": "code",
    "id": "4m1yumPcyGbB"
   },
   "outputs": [],
   "source": [
    "# create a dataframe that will have parameters and corresponding recall\n",
    "dic_scr_map = {'Estimators': param_n_estimators, 'Maximum Depth': param_max_depth, \\\n",
    "                 'Train Recall': train_recall, 'CV Recall': cv_recall}\n",
    "\n",
    "df_scr_map = pd.DataFrame(data = dic_scr_map, columns = ['Estimators', 'Maximum Depth', 'Train Recall', 'CV Recall'])\n",
    " "
   ]
  },
  {
   "cell_type": "markdown",
   "metadata": {
    "colab_type": "text",
    "id": "NxVnupw-097O"
   },
   "source": [
    "### Heatmap for Train Recall"
   ]
  },
  {
   "cell_type": "code",
   "execution_count": null,
   "metadata": {
    "colab": {
     "base_uri": "https://localhost:8080/",
     "height": 590
    },
    "colab_type": "code",
    "executionInfo": {
     "elapsed": 2491,
     "status": "ok",
     "timestamp": 1592658279467,
     "user": {
      "displayName": "sandeep panchal",
      "photoUrl": "https://lh3.googleusercontent.com/a-/AOh14Gh7IOpMB5glav7I6AkOWH0-Wj6J4HZd3Y9iGvAkJA=s64",
      "userId": "16028125481769875260"
     },
     "user_tz": -330
    },
    "id": "HSIy_PY3zUiW",
    "outputId": "4f3e26ab-2710-4cb8-8696-80ef238b62be"
   },
   "outputs": [
    {
     "data": {
      "text/plain": [
       "Text(0.5, 1.0, '\\nHeatmap for Train Recall, Estimator, and Maximum Depth\\n')"
      ]
     },
     "execution_count": 130,
     "metadata": {
      "tags": []
     },
     "output_type": "execute_result"
    },
    {
     "data": {
      "image/png": "[encoded data removed]",
      "text/plain": [
       "<Figure size 800x550 with 2 Axes>"
      ]
     },
     "metadata": {
      "tags": []
     },
     "output_type": "display_data"
    }
   ],
   "source": [
    "# seaborn heatmap to visualize train and cv recall with respect to parameters\n",
    "# this is to check if the model is overfitting or not\n",
    "\n",
    "df_train_pivot = df_scr_map.pivot('Estimators', 'Maximum Depth', 'Train Recall')\n",
    "sns.heatmap(df_train_pivot, annot = True, linewidths = 2)\n",
    "plt.title(\"\\nHeatmap for Train Recall, Estimator, and Maximum Depth\\n\")"
   ]
  },
  {
   "cell_type": "markdown",
   "metadata": {
    "colab_type": "text",
    "id": "4HzJq_kW1M89"
   },
   "source": [
    "### Heatmap for Train Recall"
   ]
  },
  {
   "cell_type": "code",
   "execution_count": null,
   "metadata": {
    "colab": {
     "base_uri": "https://localhost:8080/",
     "height": 590
    },
    "colab_type": "code",
    "executionInfo": {
     "elapsed": 2218,
     "status": "ok",
     "timestamp": 1592658303433,
     "user": {
      "displayName": "sandeep panchal",
      "photoUrl": "https://lh3.googleusercontent.com/a-/AOh14Gh7IOpMB5glav7I6AkOWH0-Wj6J4HZd3Y9iGvAkJA=s64",
      "userId": "16028125481769875260"
     },
     "user_tz": -330
    },
    "id": "bbUCZK5R1Dm3",
    "outputId": "c656a062-fa6f-48e4-98af-37cd9158ab18"
   },
   "outputs": [
    {
     "data": {
      "text/plain": [
       "Text(0.5, 1.0, '\\nHeatmap for Cv Recall, Estimator, and Maximum Depth\\n')"
      ]
     },
     "execution_count": 131,
     "metadata": {
      "tags": []
     },
     "output_type": "execute_result"
    },
    {
     "data": {
      "image/png": "[encoded data removed]",
      "text/plain": [
       "<Figure size 800x550 with 2 Axes>"
      ]
     },
     "metadata": {
      "tags": []
     },
     "output_type": "display_data"
    }
   ],
   "source": [
    "# seaborn heatmap to visualize train and cv recall with respect to parameters\n",
    "# this is to check if the model is overfitting or not\n",
    "\n",
    "df_cv_pivot = df_scr_map.pivot('Estimators', 'Maximum Depth', 'CV Recall')\n",
    "sns.heatmap(df_cv_pivot, annot = True, linewidths = 2)\n",
    "plt.title(\"\\nHeatmap for Cv Recall, Estimator, and Maximum Depth\\n\")"
   ]
  },
  {
   "cell_type": "code",
   "execution_count": null,
   "metadata": {
    "colab": {},
    "colab_type": "code",
    "id": "tWP_faHT0jsr"
   },
   "outputs": [],
   "source": []
  },
  {
   "cell_type": "markdown",
   "metadata": {
    "colab_type": "text",
    "id": "sTv3T9Ix1bHM"
   },
   "source": [
    "### Observation:\n",
    "- From the heatmap for train recall and cv recall, as the depth increased, recall increased.\n",
    "- Also, as the estimators increased, recall also increased for both train and cv.\n",
    "- There is not overfitting."
   ]
  },
  {
   "cell_type": "markdown",
   "metadata": {
    "colab_type": "text",
    "id": "c65gJ2inffUy"
   },
   "source": [
    "### Training on complete train data with best hyperparameters obtained from tuning\n",
    "- Best max_depth is 5\n",
    "- Best n_estimators is 210"
   ]
  },
  {
   "cell_type": "code",
   "execution_count": null,
   "metadata": {
    "colab": {
     "base_uri": "https://localhost:8080/",
     "height": 136
    },
    "colab_type": "code",
    "executionInfo": {
     "elapsed": 9284,
     "status": "ok",
     "timestamp": 1592654155450,
     "user": {
      "displayName": "sandeep panchal",
      "photoUrl": "https://lh3.googleusercontent.com/a-/AOh14Gh7IOpMB5glav7I6AkOWH0-Wj6J4HZd3Y9iGvAkJA=s64",
      "userId": "16028125481769875260"
     },
     "user_tz": -330
    },
    "id": "aNxyCJzY2CEv",
    "outputId": "081723f3-d500-44a7-f513-43411e038d9f"
   },
   "outputs": [
    {
     "data": {
      "text/plain": [
       "XGBClassifier(base_score=0.5, booster='gbtree', colsample_bylevel=1,\n",
       "              colsample_bynode=1, colsample_bytree=1, gamma=0,\n",
       "              learning_rate=0.1, max_delta_step=0, max_depth=5,\n",
       "              min_child_weight=1, missing=None, n_estimators=210, n_jobs=1,\n",
       "              nthread=None, objective='binary:logistic', random_state=0,\n",
       "              reg_alpha=0, reg_lambda=1, scale_pos_weight=1, seed=None,\n",
       "              silent=None, subsample=1, verbosity=1)"
      ]
     },
     "execution_count": 49,
     "metadata": {
      "tags": []
     },
     "output_type": "execute_result"
    }
   ],
   "source": [
    "from xgboost import XGBClassifier\n",
    "\n",
    "xgb = XGBClassifier(max_depth = 5, n_estimators = 210)\n",
    "\n",
    "xgb.fit(x, y)"
   ]
  },
  {
   "cell_type": "code",
   "execution_count": null,
   "metadata": {
    "colab": {},
    "colab_type": "code",
    "id": "ZL9iniV92CV0"
   },
   "outputs": [],
   "source": []
  },
  {
   "cell_type": "code",
   "execution_count": null,
   "metadata": {
    "colab": {},
    "colab_type": "code",
    "id": "mahKWlbR2CON"
   },
   "outputs": [],
   "source": []
  },
  {
   "cell_type": "markdown",
   "metadata": {
    "colab_type": "text",
    "id": "knq6Wyqv8Q5-"
   },
   "source": [
    "<center><h1>Test Data Prediction Submission </h1>"
   ]
  },
  {
   "cell_type": "code",
   "execution_count": 17,
   "metadata": {
    "colab": {
     "base_uri": "https://localhost:8080/",
     "height": 272
    },
    "colab_type": "code",
    "executionInfo": {
     "elapsed": 1887,
     "status": "ok",
     "timestamp": 1592842152387,
     "user": {
      "displayName": "sandeep panchal",
      "photoUrl": "https://lh3.googleusercontent.com/a-/AOh14Gh7IOpMB5glav7I6AkOWH0-Wj6J4HZd3Y9iGvAkJA=s64",
      "userId": "16028125481769875260"
     },
     "user_tz": -330
    },
    "id": "jnhVJE38ttj1",
    "outputId": "cfb732e1-407c-40a4-baea-2720b6054e40"
   },
   "outputs": [
    {
     "name": "stdout",
     "output_type": "stream",
     "text": [
      "Shape of the dataframe: (7, 2)\n",
      "\n",
      "Head of the sample_submission\n",
      "\n"
     ]
    },
    {
     "data": {
      "text/html": [
       "<div>\n",
       "<style scoped>\n",
       "    .dataframe tbody tr th:only-of-type {\n",
       "        vertical-align: middle;\n",
       "    }\n",
       "\n",
       "    .dataframe tbody tr th {\n",
       "        vertical-align: top;\n",
       "    }\n",
       "\n",
       "    .dataframe thead th {\n",
       "        text-align: right;\n",
       "    }\n",
       "</style>\n",
       "<table border=\"1\" class=\"dataframe\">\n",
       "  <thead>\n",
       "    <tr style=\"text-align: right;\">\n",
       "      <th></th>\n",
       "      <th>INCIDENT_ID</th>\n",
       "      <th>MULTIPLE_OFFENSE</th>\n",
       "    </tr>\n",
       "  </thead>\n",
       "  <tbody>\n",
       "    <tr>\n",
       "      <th>0</th>\n",
       "      <td>CR_195453</td>\n",
       "      <td>1</td>\n",
       "    </tr>\n",
       "    <tr>\n",
       "      <th>1</th>\n",
       "      <td>CR_103520</td>\n",
       "      <td>0</td>\n",
       "    </tr>\n",
       "    <tr>\n",
       "      <th>2</th>\n",
       "      <td>.</td>\n",
       "      <td>.</td>\n",
       "    </tr>\n",
       "    <tr>\n",
       "      <th>3</th>\n",
       "      <td>.</td>\n",
       "      <td>.</td>\n",
       "    </tr>\n",
       "    <tr>\n",
       "      <th>4</th>\n",
       "      <td>CR_196089</td>\n",
       "      <td>1</td>\n",
       "    </tr>\n",
       "  </tbody>\n",
       "</table>\n",
       "</div>"
      ],
      "text/plain": [
       "  INCIDENT_ID MULTIPLE_OFFENSE\n",
       "0   CR_195453                1\n",
       "1   CR_103520                0\n",
       "2           .                .\n",
       "3           .                .\n",
       "4   CR_196089                1"
      ]
     },
     "execution_count": 17,
     "metadata": {
      "tags": []
     },
     "output_type": "execute_result"
    }
   ],
   "source": [
    "sam = pd.read_csv('/content/drive/My Drive/Novartis/sample_submission.csv')\n",
    "\n",
    "print('Shape of the dataframe:', sam.shape)\n",
    "\n",
    "print('\\nHead of the sample_submission\\n')\n",
    "\n",
    "sam.head()"
   ]
  },
  {
   "cell_type": "markdown",
   "metadata": {
    "colab_type": "text",
    "id": "Jiep0Gn08l-f"
   },
   "source": [
    "### Importing test data"
   ]
  },
  {
   "cell_type": "code",
   "execution_count": 18,
   "metadata": {
    "colab": {
     "base_uri": "https://localhost:8080/",
     "height": 34
    },
    "colab_type": "code",
    "executionInfo": {
     "elapsed": 1273,
     "status": "ok",
     "timestamp": 1592842155481,
     "user": {
      "displayName": "sandeep panchal",
      "photoUrl": "https://lh3.googleusercontent.com/a-/AOh14Gh7IOpMB5glav7I6AkOWH0-Wj6J4HZd3Y9iGvAkJA=s64",
      "userId": "16028125481769875260"
     },
     "user_tz": -330
    },
    "id": "jameff9zt3lx",
    "outputId": "c7c0199f-198b-404c-ce8d-c0079d5f6b05"
   },
   "outputs": [
    {
     "name": "stdout",
     "output_type": "stream",
     "text": [
      "Shape of the dataframe: (15903, 17)\n"
     ]
    }
   ],
   "source": [
    "test = pd.read_csv('/content/drive/My Drive/Novartis/Test.csv')\n",
    "\n",
    "print('Shape of the dataframe:', test.shape)"
   ]
  },
  {
   "cell_type": "code",
   "execution_count": 19,
   "metadata": {
    "colab": {
     "base_uri": "https://localhost:8080/",
     "height": 255
    },
    "colab_type": "code",
    "executionInfo": {
     "elapsed": 875,
     "status": "ok",
     "timestamp": 1592842155489,
     "user": {
      "displayName": "sandeep panchal",
      "photoUrl": "https://lh3.googleusercontent.com/a-/AOh14Gh7IOpMB5glav7I6AkOWH0-Wj6J4HZd3Y9iGvAkJA=s64",
      "userId": "16028125481769875260"
     },
     "user_tz": -330
    },
    "id": "vq5ScoPquDQx",
    "outputId": "4637430e-3ff8-4ef2-dba9-60f0c377012f"
   },
   "outputs": [
    {
     "name": "stdout",
     "output_type": "stream",
     "text": [
      "\n",
      "Head of the test\n",
      "\n"
     ]
    },
    {
     "data": {
      "text/html": [
       "<div>\n",
       "<style scoped>\n",
       "    .dataframe tbody tr th:only-of-type {\n",
       "        vertical-align: middle;\n",
       "    }\n",
       "\n",
       "    .dataframe tbody tr th {\n",
       "        vertical-align: top;\n",
       "    }\n",
       "\n",
       "    .dataframe thead th {\n",
       "        text-align: right;\n",
       "    }\n",
       "</style>\n",
       "<table border=\"1\" class=\"dataframe\">\n",
       "  <thead>\n",
       "    <tr style=\"text-align: right;\">\n",
       "      <th></th>\n",
       "      <th>INCIDENT_ID</th>\n",
       "      <th>DATE</th>\n",
       "      <th>X_1</th>\n",
       "      <th>X_2</th>\n",
       "      <th>X_3</th>\n",
       "      <th>X_4</th>\n",
       "      <th>X_5</th>\n",
       "      <th>X_6</th>\n",
       "      <th>X_7</th>\n",
       "      <th>X_8</th>\n",
       "      <th>X_9</th>\n",
       "      <th>X_10</th>\n",
       "      <th>X_11</th>\n",
       "      <th>X_12</th>\n",
       "      <th>X_13</th>\n",
       "      <th>X_14</th>\n",
       "      <th>X_15</th>\n",
       "    </tr>\n",
       "  </thead>\n",
       "  <tbody>\n",
       "    <tr>\n",
       "      <th>0</th>\n",
       "      <td>CR_195453</td>\n",
       "      <td>01-FEB-18</td>\n",
       "      <td>0</td>\n",
       "      <td>30</td>\n",
       "      <td>35</td>\n",
       "      <td>7</td>\n",
       "      <td>3</td>\n",
       "      <td>6</td>\n",
       "      <td>4</td>\n",
       "      <td>0</td>\n",
       "      <td>5</td>\n",
       "      <td>1</td>\n",
       "      <td>174</td>\n",
       "      <td>NaN</td>\n",
       "      <td>72</td>\n",
       "      <td>119</td>\n",
       "      <td>23</td>\n",
       "    </tr>\n",
       "    <tr>\n",
       "      <th>1</th>\n",
       "      <td>CR_103520</td>\n",
       "      <td>05-MAR-04</td>\n",
       "      <td>0</td>\n",
       "      <td>44</td>\n",
       "      <td>44</td>\n",
       "      <td>1</td>\n",
       "      <td>3</td>\n",
       "      <td>7</td>\n",
       "      <td>1</td>\n",
       "      <td>4</td>\n",
       "      <td>6</td>\n",
       "      <td>1</td>\n",
       "      <td>316</td>\n",
       "      <td>0.0</td>\n",
       "      <td>12</td>\n",
       "      <td>29</td>\n",
       "      <td>34</td>\n",
       "    </tr>\n",
       "    <tr>\n",
       "      <th>2</th>\n",
       "      <td>CR_196089</td>\n",
       "      <td>27-JAN-18</td>\n",
       "      <td>0</td>\n",
       "      <td>34</td>\n",
       "      <td>33</td>\n",
       "      <td>3</td>\n",
       "      <td>5</td>\n",
       "      <td>2</td>\n",
       "      <td>7</td>\n",
       "      <td>3</td>\n",
       "      <td>0</td>\n",
       "      <td>1</td>\n",
       "      <td>316</td>\n",
       "      <td>1.0</td>\n",
       "      <td>72</td>\n",
       "      <td>0</td>\n",
       "      <td>34</td>\n",
       "    </tr>\n",
       "    <tr>\n",
       "      <th>3</th>\n",
       "      <td>CR_112195</td>\n",
       "      <td>18-AUG-06</td>\n",
       "      <td>7</td>\n",
       "      <td>3</td>\n",
       "      <td>2</td>\n",
       "      <td>3</td>\n",
       "      <td>5</td>\n",
       "      <td>9</td>\n",
       "      <td>8</td>\n",
       "      <td>0</td>\n",
       "      <td>5</td>\n",
       "      <td>1</td>\n",
       "      <td>174</td>\n",
       "      <td>1.0</td>\n",
       "      <td>112</td>\n",
       "      <td>87</td>\n",
       "      <td>34</td>\n",
       "    </tr>\n",
       "    <tr>\n",
       "      <th>4</th>\n",
       "      <td>CR_149832</td>\n",
       "      <td>31-OCT-11</td>\n",
       "      <td>0</td>\n",
       "      <td>7</td>\n",
       "      <td>8</td>\n",
       "      <td>7</td>\n",
       "      <td>3</td>\n",
       "      <td>2</td>\n",
       "      <td>7</td>\n",
       "      <td>1</td>\n",
       "      <td>5</td>\n",
       "      <td>1</td>\n",
       "      <td>174</td>\n",
       "      <td>0.0</td>\n",
       "      <td>112</td>\n",
       "      <td>93</td>\n",
       "      <td>43</td>\n",
       "    </tr>\n",
       "  </tbody>\n",
       "</table>\n",
       "</div>"
      ],
      "text/plain": [
       "  INCIDENT_ID       DATE  X_1  X_2  X_3  ...  X_11  X_12  X_13  X_14  X_15\n",
       "0   CR_195453  01-FEB-18    0   30   35  ...   174   NaN    72   119    23\n",
       "1   CR_103520  05-MAR-04    0   44   44  ...   316   0.0    12    29    34\n",
       "2   CR_196089  27-JAN-18    0   34   33  ...   316   1.0    72     0    34\n",
       "3   CR_112195  18-AUG-06    7    3    2  ...   174   1.0   112    87    34\n",
       "4   CR_149832  31-OCT-11    0    7    8  ...   174   0.0   112    93    43\n",
       "\n",
       "[5 rows x 17 columns]"
      ]
     },
     "execution_count": 19,
     "metadata": {
      "tags": []
     },
     "output_type": "execute_result"
    }
   ],
   "source": [
    "print('\\nHead of the test\\n')\n",
    "\n",
    "test.head()"
   ]
  },
  {
   "cell_type": "code",
   "execution_count": 20,
   "metadata": {
    "colab": {},
    "colab_type": "code",
    "executionInfo": {
     "elapsed": 805,
     "status": "ok",
     "timestamp": 1592842157222,
     "user": {
      "displayName": "sandeep panchal",
      "photoUrl": "https://lh3.googleusercontent.com/a-/AOh14Gh7IOpMB5glav7I6AkOWH0-Wj6J4HZd3Y9iGvAkJA=s64",
      "userId": "16028125481769875260"
     },
     "user_tz": -330
    },
    "id": "YCP0RHcQ8_WK"
   },
   "outputs": [],
   "source": [
    "# deep copy of test data to avoid override\n",
    "testc = copy.deepcopy(test)"
   ]
  },
  {
   "cell_type": "markdown",
   "metadata": {
    "colab_type": "text",
    "id": "HcYRS-7j9FJq"
   },
   "source": [
    "### Check for null values"
   ]
  },
  {
   "cell_type": "code",
   "execution_count": 21,
   "metadata": {
    "colab": {
     "base_uri": "https://localhost:8080/",
     "height": 425
    },
    "colab_type": "code",
    "executionInfo": {
     "elapsed": 1067,
     "status": "ok",
     "timestamp": 1592842158581,
     "user": {
      "displayName": "sandeep panchal",
      "photoUrl": "https://lh3.googleusercontent.com/a-/AOh14Gh7IOpMB5glav7I6AkOWH0-Wj6J4HZd3Y9iGvAkJA=s64",
      "userId": "16028125481769875260"
     },
     "user_tz": -330
    },
    "id": "TpssmYB09KJl",
    "outputId": "8a3be89c-145d-4023-b4c8-5caa3bd06b02"
   },
   "outputs": [
    {
     "name": "stdout",
     "output_type": "stream",
     "text": [
      "<class 'pandas.core.frame.DataFrame'>\n",
      "RangeIndex: 15903 entries, 0 to 15902\n",
      "Data columns (total 17 columns):\n",
      " #   Column       Non-Null Count  Dtype  \n",
      "---  ------       --------------  -----  \n",
      " 0   INCIDENT_ID  15903 non-null  object \n",
      " 1   DATE         15903 non-null  object \n",
      " 2   X_1          15903 non-null  int64  \n",
      " 3   X_2          15903 non-null  int64  \n",
      " 4   X_3          15903 non-null  int64  \n",
      " 5   X_4          15903 non-null  int64  \n",
      " 6   X_5          15903 non-null  int64  \n",
      " 7   X_6          15903 non-null  int64  \n",
      " 8   X_7          15903 non-null  int64  \n",
      " 9   X_8          15903 non-null  int64  \n",
      " 10  X_9          15903 non-null  int64  \n",
      " 11  X_10         15903 non-null  int64  \n",
      " 12  X_11         15903 non-null  int64  \n",
      " 13  X_12         15776 non-null  float64\n",
      " 14  X_13         15903 non-null  int64  \n",
      " 15  X_14         15903 non-null  int64  \n",
      " 16  X_15         15903 non-null  int64  \n",
      "dtypes: float64(1), int64(14), object(2)\n",
      "memory usage: 2.1+ MB\n"
     ]
    }
   ],
   "source": [
    "testc.info()"
   ]
  },
  {
   "cell_type": "markdown",
   "metadata": {
    "colab_type": "text",
    "id": "5F8ZpKra-hus"
   },
   "source": [
    "- X_12 have few null values.\n",
    "- Filling it with 1"
   ]
  },
  {
   "cell_type": "code",
   "execution_count": 22,
   "metadata": {
    "colab": {},
    "colab_type": "code",
    "executionInfo": {
     "elapsed": 1139,
     "status": "ok",
     "timestamp": 1592842162187,
     "user": {
      "displayName": "sandeep panchal",
      "photoUrl": "https://lh3.googleusercontent.com/a-/AOh14Gh7IOpMB5glav7I6AkOWH0-Wj6J4HZd3Y9iGvAkJA=s64",
      "userId": "16028125481769875260"
     },
     "user_tz": -330
    },
    "id": "7kubbTzv-mbs"
   },
   "outputs": [],
   "source": [
    "testc.fillna(1, inplace = True)"
   ]
  },
  {
   "cell_type": "markdown",
   "metadata": {
    "colab_type": "text",
    "id": "wBFGMlN9-17G"
   },
   "source": [
    "### Column DATE\n",
    "- Let us check the value counts of DATE column"
   ]
  },
  {
   "cell_type": "code",
   "execution_count": 23,
   "metadata": {
    "colab": {
     "base_uri": "https://localhost:8080/",
     "height": 221
    },
    "colab_type": "code",
    "executionInfo": {
     "elapsed": 1083,
     "status": "ok",
     "timestamp": 1592842164379,
     "user": {
      "displayName": "sandeep panchal",
      "photoUrl": "https://lh3.googleusercontent.com/a-/AOh14Gh7IOpMB5glav7I6AkOWH0-Wj6J4HZd3Y9iGvAkJA=s64",
      "userId": "16028125481769875260"
     },
     "user_tz": -330
    },
    "id": "nNVAPfa3-yKd",
    "outputId": "725257e6-ddf0-4a09-ddef-246bbb560a41"
   },
   "outputs": [
    {
     "data": {
      "text/plain": [
       "13-SEP-01    16\n",
       "15-SEP-01    12\n",
       "14-SEP-01    12\n",
       "12-SEP-01    12\n",
       "01-MAR-08     9\n",
       "             ..\n",
       "30-JUL-03     1\n",
       "04-MAY-09     1\n",
       "10-JAN-10     1\n",
       "13-MAR-00     1\n",
       "14-NOV-94     1\n",
       "Name: DATE, Length: 7939, dtype: int64"
      ]
     },
     "execution_count": 23,
     "metadata": {
      "tags": []
     },
     "output_type": "execute_result"
    }
   ],
   "source": [
    "testc.DATE.value_counts()"
   ]
  },
  {
   "cell_type": "markdown",
   "metadata": {
    "colab_type": "text",
    "id": "TIaWedPh-xP1"
   },
   "source": [
    "- There are 9121 unique types.\n",
    "- We will extract date, month and year from the DATE column and storing in new dataframes.\n",
    "- We will add str(20) to the year if it is less than str(21) and greater than str(99). Also, we will add str(19) if the year is less than str(00)."
   ]
  },
  {
   "cell_type": "code",
   "execution_count": 24,
   "metadata": {
    "colab": {},
    "colab_type": "code",
    "executionInfo": {
     "elapsed": 1290,
     "status": "ok",
     "timestamp": 1592842167792,
     "user": {
      "displayName": "sandeep panchal",
      "photoUrl": "https://lh3.googleusercontent.com/a-/AOh14Gh7IOpMB5glav7I6AkOWH0-Wj6J4HZd3Y9iGvAkJA=s64",
      "userId": "16028125481769875260"
     },
     "user_tz": -330
    },
    "id": "wOLiQpy2-p6f"
   },
   "outputs": [],
   "source": [
    "# extracting date\n",
    "testc['date'] = testc.DATE.apply(lambda x: x.split('-')[0])\n",
    "\n",
    "# extracting month\n",
    "testc['month'] = testc.DATE.apply(lambda x: x.split('-')[1])"
   ]
  },
  {
   "cell_type": "code",
   "execution_count": 25,
   "metadata": {
    "colab": {},
    "colab_type": "code",
    "executionInfo": {
     "elapsed": 942,
     "status": "ok",
     "timestamp": 1592842167796,
     "user": {
      "displayName": "sandeep panchal",
      "photoUrl": "https://lh3.googleusercontent.com/a-/AOh14Gh7IOpMB5glav7I6AkOWH0-Wj6J4HZd3Y9iGvAkJA=s64",
      "userId": "16028125481769875260"
     },
     "user_tz": -330
    },
    "id": "oubLc9QH_E2B"
   },
   "outputs": [],
   "source": [
    "# extracting year\n",
    "short_year = ['00', '01', '02', '03', '04', '05', '06', '07', '08', '09', '10', \\\n",
    "              '11', '12', '13', '14', '15', '16', '17', '18', '19', '20']\n",
    "\n",
    "testc['year'] = testc.DATE.apply(lambda x: str(20) + x.split('-')[2] if x.split('-')[2]  in short_year else str(19) + x.split('-')[2])"
   ]
  },
  {
   "cell_type": "code",
   "execution_count": 25,
   "metadata": {
    "colab": {},
    "colab_type": "code",
    "executionInfo": {
     "elapsed": 1154,
     "status": "ok",
     "timestamp": 1592842169625,
     "user": {
      "displayName": "sandeep panchal",
      "photoUrl": "https://lh3.googleusercontent.com/a-/AOh14Gh7IOpMB5glav7I6AkOWH0-Wj6J4HZd3Y9iGvAkJA=s64",
      "userId": "16028125481769875260"
     },
     "user_tz": -330
    },
    "id": "IcrAwYpTlqwm"
   },
   "outputs": [],
   "source": []
  },
  {
   "cell_type": "markdown",
   "metadata": {
    "colab_type": "text",
    "id": "xi49O0VOlrNz"
   },
   "source": [
    "### Dropping X_2 feature"
   ]
  },
  {
   "cell_type": "code",
   "execution_count": 26,
   "metadata": {
    "colab": {},
    "colab_type": "code",
    "executionInfo": {
     "elapsed": 1015,
     "status": "ok",
     "timestamp": 1592842170068,
     "user": {
      "displayName": "sandeep panchal",
      "photoUrl": "https://lh3.googleusercontent.com/a-/AOh14Gh7IOpMB5glav7I6AkOWH0-Wj6J4HZd3Y9iGvAkJA=s64",
      "userId": "16028125481769875260"
     },
     "user_tz": -330
    },
    "id": "9dbFnQn1ltPl"
   },
   "outputs": [],
   "source": [
    "testc.drop('X_2', axis = 1, inplace = True)"
   ]
  },
  {
   "cell_type": "code",
   "execution_count": 27,
   "metadata": {
    "colab": {
     "base_uri": "https://localhost:8080/",
     "height": 204
    },
    "colab_type": "code",
    "executionInfo": {
     "elapsed": 1203,
     "status": "ok",
     "timestamp": 1592842172532,
     "user": {
      "displayName": "sandeep panchal",
      "photoUrl": "https://lh3.googleusercontent.com/a-/AOh14Gh7IOpMB5glav7I6AkOWH0-Wj6J4HZd3Y9iGvAkJA=s64",
      "userId": "16028125481769875260"
     },
     "user_tz": -330
    },
    "id": "wk0tu9l5_Nnz",
    "outputId": "32790b27-0430-449b-ccf9-9b501912375e"
   },
   "outputs": [
    {
     "data": {
      "text/html": [
       "<div>\n",
       "<style scoped>\n",
       "    .dataframe tbody tr th:only-of-type {\n",
       "        vertical-align: middle;\n",
       "    }\n",
       "\n",
       "    .dataframe tbody tr th {\n",
       "        vertical-align: top;\n",
       "    }\n",
       "\n",
       "    .dataframe thead th {\n",
       "        text-align: right;\n",
       "    }\n",
       "</style>\n",
       "<table border=\"1\" class=\"dataframe\">\n",
       "  <thead>\n",
       "    <tr style=\"text-align: right;\">\n",
       "      <th></th>\n",
       "      <th>INCIDENT_ID</th>\n",
       "      <th>DATE</th>\n",
       "      <th>X_1</th>\n",
       "      <th>X_3</th>\n",
       "      <th>X_4</th>\n",
       "      <th>X_5</th>\n",
       "      <th>X_6</th>\n",
       "      <th>X_7</th>\n",
       "      <th>X_8</th>\n",
       "      <th>X_9</th>\n",
       "      <th>X_10</th>\n",
       "      <th>X_11</th>\n",
       "      <th>X_12</th>\n",
       "      <th>X_13</th>\n",
       "      <th>X_14</th>\n",
       "      <th>X_15</th>\n",
       "      <th>date</th>\n",
       "      <th>month</th>\n",
       "      <th>year</th>\n",
       "    </tr>\n",
       "  </thead>\n",
       "  <tbody>\n",
       "    <tr>\n",
       "      <th>0</th>\n",
       "      <td>CR_195453</td>\n",
       "      <td>01-FEB-18</td>\n",
       "      <td>0</td>\n",
       "      <td>35</td>\n",
       "      <td>7</td>\n",
       "      <td>3</td>\n",
       "      <td>6</td>\n",
       "      <td>4</td>\n",
       "      <td>0</td>\n",
       "      <td>5</td>\n",
       "      <td>1</td>\n",
       "      <td>174</td>\n",
       "      <td>1.0</td>\n",
       "      <td>72</td>\n",
       "      <td>119</td>\n",
       "      <td>23</td>\n",
       "      <td>01</td>\n",
       "      <td>FEB</td>\n",
       "      <td>2018</td>\n",
       "    </tr>\n",
       "    <tr>\n",
       "      <th>1</th>\n",
       "      <td>CR_103520</td>\n",
       "      <td>05-MAR-04</td>\n",
       "      <td>0</td>\n",
       "      <td>44</td>\n",
       "      <td>1</td>\n",
       "      <td>3</td>\n",
       "      <td>7</td>\n",
       "      <td>1</td>\n",
       "      <td>4</td>\n",
       "      <td>6</td>\n",
       "      <td>1</td>\n",
       "      <td>316</td>\n",
       "      <td>0.0</td>\n",
       "      <td>12</td>\n",
       "      <td>29</td>\n",
       "      <td>34</td>\n",
       "      <td>05</td>\n",
       "      <td>MAR</td>\n",
       "      <td>2004</td>\n",
       "    </tr>\n",
       "    <tr>\n",
       "      <th>2</th>\n",
       "      <td>CR_196089</td>\n",
       "      <td>27-JAN-18</td>\n",
       "      <td>0</td>\n",
       "      <td>33</td>\n",
       "      <td>3</td>\n",
       "      <td>5</td>\n",
       "      <td>2</td>\n",
       "      <td>7</td>\n",
       "      <td>3</td>\n",
       "      <td>0</td>\n",
       "      <td>1</td>\n",
       "      <td>316</td>\n",
       "      <td>1.0</td>\n",
       "      <td>72</td>\n",
       "      <td>0</td>\n",
       "      <td>34</td>\n",
       "      <td>27</td>\n",
       "      <td>JAN</td>\n",
       "      <td>2018</td>\n",
       "    </tr>\n",
       "    <tr>\n",
       "      <th>3</th>\n",
       "      <td>CR_112195</td>\n",
       "      <td>18-AUG-06</td>\n",
       "      <td>7</td>\n",
       "      <td>2</td>\n",
       "      <td>3</td>\n",
       "      <td>5</td>\n",
       "      <td>9</td>\n",
       "      <td>8</td>\n",
       "      <td>0</td>\n",
       "      <td>5</td>\n",
       "      <td>1</td>\n",
       "      <td>174</td>\n",
       "      <td>1.0</td>\n",
       "      <td>112</td>\n",
       "      <td>87</td>\n",
       "      <td>34</td>\n",
       "      <td>18</td>\n",
       "      <td>AUG</td>\n",
       "      <td>2006</td>\n",
       "    </tr>\n",
       "    <tr>\n",
       "      <th>4</th>\n",
       "      <td>CR_149832</td>\n",
       "      <td>31-OCT-11</td>\n",
       "      <td>0</td>\n",
       "      <td>8</td>\n",
       "      <td>7</td>\n",
       "      <td>3</td>\n",
       "      <td>2</td>\n",
       "      <td>7</td>\n",
       "      <td>1</td>\n",
       "      <td>5</td>\n",
       "      <td>1</td>\n",
       "      <td>174</td>\n",
       "      <td>0.0</td>\n",
       "      <td>112</td>\n",
       "      <td>93</td>\n",
       "      <td>43</td>\n",
       "      <td>31</td>\n",
       "      <td>OCT</td>\n",
       "      <td>2011</td>\n",
       "    </tr>\n",
       "  </tbody>\n",
       "</table>\n",
       "</div>"
      ],
      "text/plain": [
       "  INCIDENT_ID       DATE  X_1  X_3  X_4  X_5  ...  X_13  X_14  X_15  date  month  year\n",
       "0   CR_195453  01-FEB-18    0   35    7    3  ...    72   119    23    01    FEB  2018\n",
       "1   CR_103520  05-MAR-04    0   44    1    3  ...    12    29    34    05    MAR  2004\n",
       "2   CR_196089  27-JAN-18    0   33    3    5  ...    72     0    34    27    JAN  2018\n",
       "3   CR_112195  18-AUG-06    7    2    3    5  ...   112    87    34    18    AUG  2006\n",
       "4   CR_149832  31-OCT-11    0    8    7    3  ...   112    93    43    31    OCT  2011\n",
       "\n",
       "[5 rows x 19 columns]"
      ]
     },
     "execution_count": 27,
     "metadata": {
      "tags": []
     },
     "output_type": "execute_result"
    }
   ],
   "source": [
    "testc.head()"
   ]
  },
  {
   "cell_type": "markdown",
   "metadata": {
    "colab_type": "text",
    "id": "UabGfw-F8wwC"
   },
   "source": [
    "### Label Encoding date, month and year columns\n",
    "\n",
    "- Test data should not be fit and transformed. It should be only transformed to avoid data leakage. \n",
    "- When I was just transforming, I was getting error for a new data value in the test data which was not in the train data.\n",
    "- If you people have a better method to avoid the above error, please ping me in linkedin or comment under the post - https://www.linkedin.com/in/sandeep-panchal-682734111/"
   ]
  },
  {
   "cell_type": "code",
   "execution_count": 31,
   "metadata": {
    "colab": {
     "base_uri": "https://localhost:8080/",
     "height": 68
    },
    "colab_type": "code",
    "executionInfo": {
     "elapsed": 1151,
     "status": "ok",
     "timestamp": 1592842376462,
     "user": {
      "displayName": "sandeep panchal",
      "photoUrl": "https://lh3.googleusercontent.com/a-/AOh14Gh7IOpMB5glav7I6AkOWH0-Wj6J4HZd3Y9iGvAkJA=s64",
      "userId": "16028125481769875260"
     },
     "user_tz": -330
    },
    "id": "vpTlF2NrzV4p",
    "outputId": "ac020626-5b14-4629-f0c3-384c9ee0cf26"
   },
   "outputs": [
    {
     "data": {
      "text/plain": [
       "array(['01', '02', '03', '04', '05', '06', '07', '08', '09', '10', '11',\n",
       "       '12', '13', '14', '15', '16', '17', '18', '19', '20', '21', '22',\n",
       "       '23', '24', '25', '26', '27', '28', '29', '30', '31'], dtype=object)"
      ]
     },
     "execution_count": 31,
     "metadata": {
      "tags": []
     },
     "output_type": "execute_result"
    }
   ],
   "source": [
    "le_date.classes_"
   ]
  },
  {
   "cell_type": "code",
   "execution_count": 32,
   "metadata": {
    "colab": {},
    "colab_type": "code",
    "executionInfo": {
     "elapsed": 2197,
     "status": "ok",
     "timestamp": 1592842569979,
     "user": {
      "displayName": "sandeep panchal",
      "photoUrl": "https://lh3.googleusercontent.com/a-/AOh14Gh7IOpMB5glav7I6AkOWH0-Wj6J4HZd3Y9iGvAkJA=s64",
      "userId": "16028125481769875260"
     },
     "user_tz": -330
    },
    "id": "K1ZPIqGoysac"
   },
   "outputs": [],
   "source": [
    "# appending '<unknown>' to labelencoder classes to handling unseen labels\n",
    "\n",
    "# date\n",
    "testc.date = testc.date.map(lambda c: '<unknown>' if c not in le_date.classes_ else c)\n",
    "le_date.classes_ = np.append(le_date.classes_, '<unknown>')\n",
    "\n",
    "# month\n",
    "testc.month = testc.month.map(lambda c: '<unknown>' if c not in le_month.classes_ else c)\n",
    "le_month.classes_ = np.append(le_month.classes_, '<unknown>')\n",
    "\n",
    "# year\n",
    "testc.year = testc.year.map(lambda c: '<unknown>' if c not in le_year.classes_ else c)\n",
    "le_year.classes_ = np.append(le_year.classes_, '<unknown>')"
   ]
  },
  {
   "cell_type": "markdown",
   "metadata": {
    "colab_type": "text",
    "id": "aJQ91kkDx3iK"
   },
   "source": [
    "- Below is the right approach to transform the test data not to fit."
   ]
  },
  {
   "cell_type": "code",
   "execution_count": 34,
   "metadata": {
    "colab": {},
    "colab_type": "code",
    "executionInfo": {
     "elapsed": 1375,
     "status": "ok",
     "timestamp": 1592842584087,
     "user": {
      "displayName": "sandeep panchal",
      "photoUrl": "https://lh3.googleusercontent.com/a-/AOh14Gh7IOpMB5glav7I6AkOWH0-Wj6J4HZd3Y9iGvAkJA=s64",
      "userId": "16028125481769875260"
     },
     "user_tz": -330
    },
    "id": "6KZfew8Hx3iL"
   },
   "outputs": [],
   "source": [
    "from sklearn.preprocessing import LabelEncoder\n",
    "\n",
    "# label encoding date\n",
    "testc.date = le_date.transform(testc.date)\n",
    "\n",
    "# label encoding month\n",
    "testc.month = le_month.transform(testc.month)\n",
    "\n",
    "# label encoding year\n",
    "testc.year = le_year.transform(testc.year)"
   ]
  },
  {
   "cell_type": "code",
   "execution_count": 35,
   "metadata": {
    "colab": {
     "base_uri": "https://localhost:8080/",
     "height": 204
    },
    "colab_type": "code",
    "executionInfo": {
     "elapsed": 1664,
     "status": "ok",
     "timestamp": 1592842590776,
     "user": {
      "displayName": "sandeep panchal",
      "photoUrl": "https://lh3.googleusercontent.com/a-/AOh14Gh7IOpMB5glav7I6AkOWH0-Wj6J4HZd3Y9iGvAkJA=s64",
      "userId": "16028125481769875260"
     },
     "user_tz": -330
    },
    "id": "p7Ztl3i30QF_",
    "outputId": "ac122ac3-84ae-4597-bfa9-7ed43f44038d"
   },
   "outputs": [
    {
     "data": {
      "text/html": [
       "<div>\n",
       "<style scoped>\n",
       "    .dataframe tbody tr th:only-of-type {\n",
       "        vertical-align: middle;\n",
       "    }\n",
       "\n",
       "    .dataframe tbody tr th {\n",
       "        vertical-align: top;\n",
       "    }\n",
       "\n",
       "    .dataframe thead th {\n",
       "        text-align: right;\n",
       "    }\n",
       "</style>\n",
       "<table border=\"1\" class=\"dataframe\">\n",
       "  <thead>\n",
       "    <tr style=\"text-align: right;\">\n",
       "      <th></th>\n",
       "      <th>INCIDENT_ID</th>\n",
       "      <th>DATE</th>\n",
       "      <th>X_1</th>\n",
       "      <th>X_3</th>\n",
       "      <th>X_4</th>\n",
       "      <th>X_5</th>\n",
       "      <th>X_6</th>\n",
       "      <th>X_7</th>\n",
       "      <th>X_8</th>\n",
       "      <th>X_9</th>\n",
       "      <th>X_10</th>\n",
       "      <th>X_11</th>\n",
       "      <th>X_12</th>\n",
       "      <th>X_13</th>\n",
       "      <th>X_14</th>\n",
       "      <th>X_15</th>\n",
       "      <th>date</th>\n",
       "      <th>month</th>\n",
       "      <th>year</th>\n",
       "    </tr>\n",
       "  </thead>\n",
       "  <tbody>\n",
       "    <tr>\n",
       "      <th>0</th>\n",
       "      <td>CR_195453</td>\n",
       "      <td>01-FEB-18</td>\n",
       "      <td>0</td>\n",
       "      <td>35</td>\n",
       "      <td>7</td>\n",
       "      <td>3</td>\n",
       "      <td>6</td>\n",
       "      <td>4</td>\n",
       "      <td>0</td>\n",
       "      <td>5</td>\n",
       "      <td>1</td>\n",
       "      <td>174</td>\n",
       "      <td>1.0</td>\n",
       "      <td>72</td>\n",
       "      <td>119</td>\n",
       "      <td>23</td>\n",
       "      <td>0</td>\n",
       "      <td>3</td>\n",
       "      <td>27</td>\n",
       "    </tr>\n",
       "    <tr>\n",
       "      <th>1</th>\n",
       "      <td>CR_103520</td>\n",
       "      <td>05-MAR-04</td>\n",
       "      <td>0</td>\n",
       "      <td>44</td>\n",
       "      <td>1</td>\n",
       "      <td>3</td>\n",
       "      <td>7</td>\n",
       "      <td>1</td>\n",
       "      <td>4</td>\n",
       "      <td>6</td>\n",
       "      <td>1</td>\n",
       "      <td>316</td>\n",
       "      <td>0.0</td>\n",
       "      <td>12</td>\n",
       "      <td>29</td>\n",
       "      <td>34</td>\n",
       "      <td>4</td>\n",
       "      <td>7</td>\n",
       "      <td>13</td>\n",
       "    </tr>\n",
       "    <tr>\n",
       "      <th>2</th>\n",
       "      <td>CR_196089</td>\n",
       "      <td>27-JAN-18</td>\n",
       "      <td>0</td>\n",
       "      <td>33</td>\n",
       "      <td>3</td>\n",
       "      <td>5</td>\n",
       "      <td>2</td>\n",
       "      <td>7</td>\n",
       "      <td>3</td>\n",
       "      <td>0</td>\n",
       "      <td>1</td>\n",
       "      <td>316</td>\n",
       "      <td>1.0</td>\n",
       "      <td>72</td>\n",
       "      <td>0</td>\n",
       "      <td>34</td>\n",
       "      <td>26</td>\n",
       "      <td>4</td>\n",
       "      <td>27</td>\n",
       "    </tr>\n",
       "    <tr>\n",
       "      <th>3</th>\n",
       "      <td>CR_112195</td>\n",
       "      <td>18-AUG-06</td>\n",
       "      <td>7</td>\n",
       "      <td>2</td>\n",
       "      <td>3</td>\n",
       "      <td>5</td>\n",
       "      <td>9</td>\n",
       "      <td>8</td>\n",
       "      <td>0</td>\n",
       "      <td>5</td>\n",
       "      <td>1</td>\n",
       "      <td>174</td>\n",
       "      <td>1.0</td>\n",
       "      <td>112</td>\n",
       "      <td>87</td>\n",
       "      <td>34</td>\n",
       "      <td>17</td>\n",
       "      <td>1</td>\n",
       "      <td>15</td>\n",
       "    </tr>\n",
       "    <tr>\n",
       "      <th>4</th>\n",
       "      <td>CR_149832</td>\n",
       "      <td>31-OCT-11</td>\n",
       "      <td>0</td>\n",
       "      <td>8</td>\n",
       "      <td>7</td>\n",
       "      <td>3</td>\n",
       "      <td>2</td>\n",
       "      <td>7</td>\n",
       "      <td>1</td>\n",
       "      <td>5</td>\n",
       "      <td>1</td>\n",
       "      <td>174</td>\n",
       "      <td>0.0</td>\n",
       "      <td>112</td>\n",
       "      <td>93</td>\n",
       "      <td>43</td>\n",
       "      <td>30</td>\n",
       "      <td>10</td>\n",
       "      <td>20</td>\n",
       "    </tr>\n",
       "  </tbody>\n",
       "</table>\n",
       "</div>"
      ],
      "text/plain": [
       "  INCIDENT_ID       DATE  X_1  X_3  X_4  ...  X_14  X_15  date  month  year\n",
       "0   CR_195453  01-FEB-18    0   35    7  ...   119    23     0      3    27\n",
       "1   CR_103520  05-MAR-04    0   44    1  ...    29    34     4      7    13\n",
       "2   CR_196089  27-JAN-18    0   33    3  ...     0    34    26      4    27\n",
       "3   CR_112195  18-AUG-06    7    2    3  ...    87    34    17      1    15\n",
       "4   CR_149832  31-OCT-11    0    8    7  ...    93    43    30     10    20\n",
       "\n",
       "[5 rows x 19 columns]"
      ]
     },
     "execution_count": 35,
     "metadata": {
      "tags": []
     },
     "output_type": "execute_result"
    }
   ],
   "source": [
    "testc.head()"
   ]
  },
  {
   "cell_type": "markdown",
   "metadata": {
    "colab_type": "text",
    "id": "fBeMk3hu_6K-"
   },
   "source": [
    "### Prediction of test data"
   ]
  },
  {
   "cell_type": "code",
   "execution_count": null,
   "metadata": {
    "colab": {},
    "colab_type": "code",
    "id": "vcCO6SV788k0"
   },
   "outputs": [],
   "source": [
    "# dropping INCIDENT_ID and DATE columns\n",
    "\n",
    "test_x = testc.drop(['INCIDENT_ID', 'DATE'], axis = 1)"
   ]
  },
  {
   "cell_type": "code",
   "execution_count": null,
   "metadata": {
    "colab": {},
    "colab_type": "code",
    "id": "6kpm1FWcAHcw"
   },
   "outputs": [],
   "source": [
    "# predicting test data\n",
    "\n",
    "test_x_pred = xgb.predict(test_x)"
   ]
  },
  {
   "cell_type": "markdown",
   "metadata": {
    "colab_type": "text",
    "id": "mIS0leJjAXJ4"
   },
   "source": [
    "### Creating a submission dataframe with columns test INCIDENT_ID and MULTIPLE_OFFENSE"
   ]
  },
  {
   "cell_type": "code",
   "execution_count": null,
   "metadata": {
    "colab": {},
    "colab_type": "code",
    "id": "C2H7OVR9AFdS"
   },
   "outputs": [],
   "source": [
    "submission = pd.DataFrame()\n",
    "\n",
    "submission['INCIDENT_ID'] = test['INCIDENT_ID']\n",
    "submission['MULTIPLE_OFFENSE'] = test_x_pred"
   ]
  },
  {
   "cell_type": "code",
   "execution_count": null,
   "metadata": {
    "colab": {},
    "colab_type": "code",
    "id": "jKdkwRSr_wxf"
   },
   "outputs": [],
   "source": [
    "# saving the submssion file\n",
    "\n",
    "submission.to_csv('prediction_xgboost_5.csv', index = False)"
   ]
  },
  {
   "cell_type": "code",
   "execution_count": null,
   "metadata": {
    "colab": {},
    "colab_type": "code",
    "id": "nv91JoDZ88bI"
   },
   "outputs": [],
   "source": []
  },
  {
   "cell_type": "markdown",
   "metadata": {
    "colab_type": "text",
    "id": "D9r7BPIEsqME"
   },
   "source": [
    "<center><h1>END</h1>"
   ]
  },
  {
   "cell_type": "code",
   "execution_count": null,
   "metadata": {
    "colab": {},
    "colab_type": "code",
    "id": "PbOcyJMrx5ZI"
   },
   "outputs": [],
   "source": []
  }
 ],
 "metadata": {
  "accelerator": "GPU",
  "colab": {
   "collapsed_sections": [],
   "name": "Novartis_DS_Code.ipynb",
   "provenance": []
  },
  "kernelspec": {
   "display_name": "Python 3",
   "language": "python",
   "name": "python3"
  },
  "language_info": {
   "codemirror_mode": {
    "name": "ipython",
    "version": 3
   },
   "file_extension": ".py",
   "mimetype": "text/x-python",
   "name": "python",
   "nbconvert_exporter": "python",
   "pygments_lexer": "ipython3",
   "version": "3.7.1"
  }
 },
 "nbformat": 4,
 "nbformat_minor": 1
}
